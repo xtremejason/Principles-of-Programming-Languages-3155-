{
 "cells": [
  {
   "cell_type": "markdown",
   "metadata": {
    "nbgrader": {
     "grade": false,
     "grade_id": "cell-224ca5a0097f63b5",
     "locked": true,
     "schema_version": 3,
     "solution": false
    }
   },
   "source": [
    "# CSCI 3155: Assignment 3 \n",
    "\n",
    "Topics covered: ASTs, pattern matching, higher order functions."
   ]
  },
  {
   "cell_type": "code",
   "execution_count": 1,
   "metadata": {
    "nbgrader": {
     "grade": false,
     "grade_id": "cell-7e3b987db2733a1c",
     "locked": true,
     "schema_version": 3,
     "solution": false
    }
   },
   "outputs": [
    {
     "data": {
      "text/plain": [
       "defined \u001b[32mfunction\u001b[39m \u001b[36mpassed\u001b[39m"
      ]
     },
     "execution_count": 1,
     "metadata": {},
     "output_type": "execute_result"
    }
   ],
   "source": [
    "// TEST HELPER\n",
    "def passed(points: Int) {\n",
    "    require(points >=0)\n",
    "    if (points == 1) print(s\"\\n*** Tests Passed (1 point) ***\\n\")\n",
    "    else print(s\"\\n*** Tests Passed ($points points) ***\\n\")\n",
    "}"
   ]
  },
  {
   "cell_type": "markdown",
   "metadata": {},
   "source": [
    "__Your Name Here__"
   ]
  },
  {
   "cell_type": "markdown",
   "metadata": {
    "nbgrader": {
     "grade": false,
     "grade_id": "cell-a3d45980c5a3961a",
     "locked": true,
     "schema_version": 3,
     "solution": false
    }
   },
   "source": [
    "## Problem 1 (30 points)\n",
    "\n",
    "### 1A (10 points) \n",
    "\n",
    "This question asks you to implement the following grammar for a very simple programming language in scala.  The programming language allows you to declare variables and assign them values.\n",
    "\n",
    "Example Program:\n",
    "\n",
    "~~~\n",
    "x1 := 10 # create a variable x1 and assign 10 to the variable x1.\n",
    "x2 := 20 + x1 * x1 # create a variable x2 and assign 20 + x1 * x1\n",
    "x3 := x1 + x2 # create a variable x3 and assign x1 + x2\n",
    "x4 := x3 # create a variable x4 and assign x3 to it\n",
    "\n",
    "(x1 + x2 + x3) # Final Return Expression that is the value of the whole program.\n",
    "~~~\n",
    "\n",
    "Please use constructors with the same name as the nonterminals in the grammar.\n",
    "\n",
    "\n",
    "\n",
    "$$\\newcommand\\nt[1]{\\textbf{#1}}$$\n",
    "$$ \\begin{array}{rcl}\n",
    "\\nt{Expr} & \\Rightarrow & Plus(\\nt{Expr}, \\nt{Expr})\\\\\n",
    "&|&  Minus(\\nt{Expr}, \\nt{Expr})\\\\\n",
    "&|& Star(\\nt{Expr}, \\nt{Expr})\\\\\n",
    "&|& Var(\\nt{String}) \\\\\n",
    "&|& Const(\\nt{Double}) \\\\[10pt]\n",
    "\\nt{Statement} & \\Rightarrow & Assignment(\\nt{String}, \\nt{Expr})\\\\[5pt]\n",
    "\\nt{Program} & \\Rightarrow &  CalcProgram( \\nt{Statement}* ,\\  \\nt{Expr})\\\\[5pt]\n",
    "\\end{array}$$\n",
    "\n",
    "\n",
    "Complete the scala definition for the grammar above. Please use scala datatypes for Double and String.\n",
    "Also, please use List(..) whenever Kleene star is used.\n"
   ]
  },
  {
   "cell_type": "code",
   "execution_count": 2,
   "metadata": {
    "nbgrader": {
     "grade": false,
     "grade_id": "p1a-ans",
     "locked": false,
     "schema_version": 3,
     "solution": true
    },
    "scrolled": true
   },
   "outputs": [
    {
     "data": {
      "text/plain": [
       "defined \u001b[32mtrait\u001b[39m \u001b[36mExpr\u001b[39m\n",
       "defined \u001b[32mclass\u001b[39m \u001b[36mPlus\u001b[39m\n",
       "defined \u001b[32mclass\u001b[39m \u001b[36mMinus\u001b[39m\n",
       "defined \u001b[32mclass\u001b[39m \u001b[36mStar\u001b[39m\n",
       "defined \u001b[32mclass\u001b[39m \u001b[36mVar\u001b[39m\n",
       "defined \u001b[32mclass\u001b[39m \u001b[36mConst\u001b[39m\n",
       "defined \u001b[32mtrait\u001b[39m \u001b[36mStatement\u001b[39m\n",
       "defined \u001b[32mclass\u001b[39m \u001b[36mAssignment\u001b[39m\n",
       "defined \u001b[32mtrait\u001b[39m \u001b[36mProgram\u001b[39m\n",
       "defined \u001b[32mclass\u001b[39m \u001b[36mCalcProgram\u001b[39m"
      ]
     },
     "execution_count": 2,
     "metadata": {},
     "output_type": "execute_result"
    }
   ],
   "source": [
    "sealed trait Expr\n",
    "case class Plus(e1: Expr, e2: Expr) extends Expr\n",
    "case class Minus(e1: Expr, e2: Expr) extends Expr\n",
    "case class Star(e1: Expr, e2: Expr) extends Expr\n",
    "case class Var(s: String) extends Expr\n",
    "case class Const(d: Double) extends Expr\n",
    "\n",
    "//BEGIN SOLUTION\n",
    "sealed trait Statement\n",
    "case class Assignment(s: String, e: Expr) extends Statement\n",
    "\n",
    "sealed trait Program\n",
    "case class CalcProgram(lst: List[Statement], e: Expr) extends Program\n",
    "//END SOLUTION\n"
   ]
  },
  {
   "cell_type": "code",
   "execution_count": 3,
   "metadata": {
    "nbgrader": {
     "grade": true,
     "grade_id": "p1a-test1",
     "locked": true,
     "points": 5,
     "schema_version": 3,
     "solution": false,
     "task": false
    }
   },
   "outputs": [
    {
     "name": "stdout",
     "output_type": "stream",
     "text": [
      "\n",
      "*** Tests Passed (5 points) ***\n"
     ]
    },
    {
     "data": {
      "text/plain": [
       "\u001b[36mv1\u001b[39m: \u001b[32mAssignment\u001b[39m = \u001b[33mAssignment\u001b[39m(\u001b[32m\"x\"\u001b[39m, \u001b[33mConst\u001b[39m(\u001b[32m2.0\u001b[39m))\n",
       "\u001b[36mv2\u001b[39m: \u001b[32mAssignment\u001b[39m = \u001b[33mAssignment\u001b[39m(\u001b[32m\"y\"\u001b[39m, \u001b[33mPlus\u001b[39m(\u001b[33mVar\u001b[39m(\u001b[32m\"x\"\u001b[39m), \u001b[33mConst\u001b[39m(\u001b[32m4.0\u001b[39m)))\n",
       "\u001b[36mv3\u001b[39m: \u001b[32mAssignment\u001b[39m = \u001b[33mAssignment\u001b[39m(\u001b[32m\"z\"\u001b[39m, \u001b[33mVar\u001b[39m(\u001b[32m\"y\"\u001b[39m))"
      ]
     },
     "execution_count": 3,
     "metadata": {},
     "output_type": "execute_result"
    }
   ],
   "source": [
    "//BEGIN TEST\n",
    "val v1 = Assignment(\"x\", Const(2.0))\n",
    "val v2 = Assignment(\"y\", Plus(Var(\"x\"), Const(4.0)))\n",
    "val v3 = Assignment(\"z\", Var(\"y\"))\n",
    "passed(5)\n",
    "//END TEST"
   ]
  },
  {
   "cell_type": "code",
   "execution_count": 4,
   "metadata": {
    "nbgrader": {
     "grade": true,
     "grade_id": "p1a-t2",
     "locked": true,
     "points": 5,
     "schema_version": 3,
     "solution": false,
     "task": false
    }
   },
   "outputs": [
    {
     "name": "stdout",
     "output_type": "stream",
     "text": [
      "\n",
      "*** Tests Passed (5 points) ***\n"
     ]
    },
    {
     "data": {
      "text/plain": [
       "\u001b[36mv1\u001b[39m: \u001b[32mAssignment\u001b[39m = \u001b[33mAssignment\u001b[39m(\u001b[32m\"x\"\u001b[39m, \u001b[33mConst\u001b[39m(\u001b[32m2.0\u001b[39m))\n",
       "\u001b[36mv2\u001b[39m: \u001b[32mAssignment\u001b[39m = \u001b[33mAssignment\u001b[39m(\u001b[32m\"y\"\u001b[39m, \u001b[33mPlus\u001b[39m(\u001b[33mVar\u001b[39m(\u001b[32m\"x\"\u001b[39m), \u001b[33mConst\u001b[39m(\u001b[32m4.0\u001b[39m)))\n",
       "\u001b[36mv3\u001b[39m: \u001b[32mAssignment\u001b[39m = \u001b[33mAssignment\u001b[39m(\u001b[32m\"z\"\u001b[39m, \u001b[33mVar\u001b[39m(\u001b[32m\"y\"\u001b[39m))\n",
       "\u001b[36mp1\u001b[39m: \u001b[32mCalcProgram\u001b[39m = \u001b[33mCalcProgram\u001b[39m(\n",
       "  \u001b[33mList\u001b[39m(\n",
       "    \u001b[33mAssignment\u001b[39m(\u001b[32m\"x\"\u001b[39m, \u001b[33mConst\u001b[39m(\u001b[32m2.0\u001b[39m)),\n",
       "    \u001b[33mAssignment\u001b[39m(\u001b[32m\"y\"\u001b[39m, \u001b[33mPlus\u001b[39m(\u001b[33mVar\u001b[39m(\u001b[32m\"x\"\u001b[39m), \u001b[33mConst\u001b[39m(\u001b[32m4.0\u001b[39m))),\n",
       "    \u001b[33mAssignment\u001b[39m(\u001b[32m\"z\"\u001b[39m, \u001b[33mVar\u001b[39m(\u001b[32m\"y\"\u001b[39m))\n",
       "  ),\n",
       "  \u001b[33mVar\u001b[39m(\u001b[32m\"z\"\u001b[39m)\n",
       ")\n",
       "\u001b[36mp2\u001b[39m: \u001b[32mCalcProgram\u001b[39m = \u001b[33mCalcProgram\u001b[39m(\u001b[33mList\u001b[39m(), \u001b[33mVar\u001b[39m(\u001b[32m\"y\"\u001b[39m))"
      ]
     },
     "execution_count": 4,
     "metadata": {},
     "output_type": "execute_result"
    }
   ],
   "source": [
    "//BEGIN TEST\n",
    "val v1 = Assignment(\"x\", Const(2.0))\n",
    "val v2 = Assignment(\"y\", Plus(Var(\"x\"), Const(4.0)))\n",
    "val v3 = Assignment(\"z\", Var(\"y\"))\n",
    "val p1 = CalcProgram(List(v1, v2, v3), Var(\"z\"))\n",
    "val p2 = CalcProgram(List(), Var(\"y\"))\n",
    "\n",
    "passed(5)\n",
    "//END TEST"
   ]
  },
  {
   "cell_type": "markdown",
   "metadata": {
    "nbgrader": {
     "grade": false,
     "grade_id": "cell-c6c47f6f70088d55",
     "locked": true,
     "schema_version": 3,
     "solution": false,
     "task": false
    }
   },
   "source": [
    "### Part 1B (10 points)\n",
    "\n",
    "In class we saw how to evaluate an expression given a map from identifiers to their values. \n",
    "\n",
    "~~~\n",
    "def evalExpr(e: Expr, env: Map[String, Double]): Double = ...\n",
    "~~~\n",
    "\n",
    "In this assignment,  you are asked to handle assignment statement. The idea here is that the\n",
    "assignment statement takes an environment and modifies it.\n",
    "\n",
    "~~~\n",
    "def evalStatement(s: Statement, env: Map[String, Double]): Map[String, Double] = ...\n",
    "~~~\n",
    "\n",
    "As an example consider the map  env\n",
    "\n",
    "~~~\n",
    "Map(\"x\" -> 20, \"y\" -> 35)\n",
    "~~~\n",
    "\n",
    "The assignment statement z := x + y\n",
    "\n",
    "~~~\n",
    "Assignment(\"z\", Plus(Var(\"x\"), Var(\"y\")))\n",
    "~~~\n",
    "\n",
    "Should return a map \n",
    "\n",
    "~~~\n",
    "Map(\"x\"-> 20, \"y\" -> 35, \"z\" -> 55)\n",
    "~~~\n",
    "\n",
    "The strategy should be as follows: (a) evaluate the expression in the RHS of the assignment statement, \n",
    "(b) add the entry that maps the declared variable to the new value and (c) return this map.\n",
    "\n",
    "https://docs.scala-lang.org/overviews/collections-2.13/maps.html\n",
    "\n"
   ]
  },
  {
   "cell_type": "code",
   "execution_count": 5,
   "metadata": {
    "nbgrader": {
     "grade": false,
     "grade_id": "p1b-ans",
     "locked": false,
     "schema_version": 3,
     "solution": true,
     "task": false
    }
   },
   "outputs": [
    {
     "data": {
      "text/plain": [
       "defined \u001b[32mfunction\u001b[39m \u001b[36mevalExpr\u001b[39m\n",
       "defined \u001b[32mfunction\u001b[39m \u001b[36mevalStatement\u001b[39m"
      ]
     },
     "execution_count": 5,
     "metadata": {},
     "output_type": "execute_result"
    }
   ],
   "source": [
    "def evalExpr(e: Expr, env: Map[String, Double]): Double = {\n",
    "    def binFun(e1: Expr, e2: Expr, op: (Double, Double) => Double): Double = {\n",
    "        val v1 = evalExpr(e1, env)\n",
    "        val v2 = evalExpr(e2, env)\n",
    "        op(v1, v2)\n",
    "    }\n",
    "    \n",
    "    e match {\n",
    "        case Plus(e1, e2) => binFun(e1, e2, _ + _ )\n",
    "        case Minus(e1, e2) => binFun(e1, e2, _ - _ )\n",
    "        case Star(e1, e2) => binFun(e1, e2, _ * _ )\n",
    "        case Var(v) => {\n",
    "            if (env.contains(v)){\n",
    "                env(v)\n",
    "            } else {\n",
    "                throw new IllegalArgumentException(s\"$v undefined variable.\")\n",
    "            }\n",
    "        }\n",
    "        case Const(f) => f\n",
    "    }\n",
    "}\n",
    "\n",
    "def evalStatement(s: Statement, env: Map[String, Double]): Map[String, Double] = s match {\n",
    "    case Assignment(varName, rhsExpr) => {\n",
    "        //BEGIN SOLUTION\n",
    "        val d = evalExpr(rhsExpr, env)\n",
    "        env + ( varName -> d)\n",
    "        //END SOLUTION\n",
    "    }\n",
    "}\n"
   ]
  },
  {
   "cell_type": "code",
   "execution_count": 6,
   "metadata": {
    "nbgrader": {
     "grade": true,
     "grade_id": "p1b-test",
     "locked": true,
     "points": 10,
     "schema_version": 3,
     "solution": false,
     "task": false
    }
   },
   "outputs": [
    {
     "name": "stdout",
     "output_type": "stream",
     "text": [
      "\n",
      "*** Tests Passed (10 points) ***\n"
     ]
    },
    {
     "data": {
      "text/plain": [
       "defined \u001b[32mfunction\u001b[39m \u001b[36mtestMap\u001b[39m\n",
       "\u001b[36mm1\u001b[39m: \u001b[32mMap\u001b[39m[\u001b[32mString\u001b[39m, \u001b[32mDouble\u001b[39m] = \u001b[33mMap\u001b[39m()\n",
       "\u001b[36mv1\u001b[39m: \u001b[32mAssignment\u001b[39m = \u001b[33mAssignment\u001b[39m(\u001b[32m\"x\"\u001b[39m, \u001b[33mConst\u001b[39m(\u001b[32m2.0\u001b[39m))\n",
       "\u001b[36mm2\u001b[39m: \u001b[32mMap\u001b[39m[\u001b[32mString\u001b[39m, \u001b[32mDouble\u001b[39m] = \u001b[33mMap\u001b[39m(\u001b[32m\"x\"\u001b[39m -> \u001b[32m2.0\u001b[39m)\n",
       "\u001b[36mv2\u001b[39m: \u001b[32mAssignment\u001b[39m = \u001b[33mAssignment\u001b[39m(\u001b[32m\"y\"\u001b[39m, \u001b[33mPlus\u001b[39m(\u001b[33mVar\u001b[39m(\u001b[32m\"x\"\u001b[39m), \u001b[33mConst\u001b[39m(\u001b[32m4.0\u001b[39m)))\n",
       "\u001b[36mm3\u001b[39m: \u001b[32mMap\u001b[39m[\u001b[32mString\u001b[39m, \u001b[32mDouble\u001b[39m] = \u001b[33mMap\u001b[39m(\u001b[32m\"x\"\u001b[39m -> \u001b[32m2.0\u001b[39m, \u001b[32m\"y\"\u001b[39m -> \u001b[32m6.0\u001b[39m)\n",
       "\u001b[36mv3\u001b[39m: \u001b[32mAssignment\u001b[39m = \u001b[33mAssignment\u001b[39m(\u001b[32m\"z\"\u001b[39m, \u001b[33mStar\u001b[39m(\u001b[33mVar\u001b[39m(\u001b[32m\"y\"\u001b[39m), \u001b[33mVar\u001b[39m(\u001b[32m\"x\"\u001b[39m)))\n",
       "\u001b[36mm4\u001b[39m: \u001b[32mMap\u001b[39m[\u001b[32mString\u001b[39m, \u001b[32mDouble\u001b[39m] = \u001b[33mMap\u001b[39m(\u001b[32m\"x\"\u001b[39m -> \u001b[32m2.0\u001b[39m, \u001b[32m\"y\"\u001b[39m -> \u001b[32m6.0\u001b[39m, \u001b[32m\"z\"\u001b[39m -> \u001b[32m12.0\u001b[39m)"
      ]
     },
     "execution_count": 6,
     "metadata": {},
     "output_type": "execute_result"
    }
   ],
   "source": [
    "//BEGIN TEST\n",
    "def testMap(m1: Map[String, Double], varname: String, testval: Double) = {\n",
    "    m1.contains(varname) && m1(varname) == testval\n",
    "}\n",
    "\n",
    "val m1 = Map[String, Double]()\n",
    "val v1 = Assignment(\"x\", Const(2.0))\n",
    "val m2 = evalStatement(v1, m1)\n",
    "assert(testMap(m2, \"x\", 2.0), \"TEST 1 PASSED!\")\n",
    "\n",
    "val v2 = Assignment(\"y\", Plus(Var(\"x\"), Const(4.0)))\n",
    "val m3 = evalStatement(v2, m2)\n",
    "assert(testMap(m3, \"x\", 2.0), \"TEST 2.1 PASSED!\")\n",
    "assert(testMap(m3, \"y\", 6.0), \"TEST 2.2 PASSED!\")\n",
    "\n",
    "\n",
    "val v3 = Assignment(\"z\", Star(Var(\"y\"), Var(\"x\")))\n",
    "val m4 = evalStatement(v3, m3)\n",
    "assert(testMap(m4, \"x\", 2.0), \"TEST 3.1 PASSED!\")\n",
    "assert(testMap(m4, \"y\", 6.0), \"TEST 3.2 PASSED!\")\n",
    "assert(testMap(m4, \"z\", 12.0), \"TEST 3.3 PASSED!\")\n",
    "\n",
    "passed(10)\n",
    "\n",
    "//END TEST"
   ]
  },
  {
   "cell_type": "markdown",
   "metadata": {
    "nbgrader": {
     "grade": false,
     "grade_id": "cell-d584a3efe5623035",
     "locked": true,
     "schema_version": 3,
     "solution": false,
     "task": false
    }
   },
   "source": [
    "### Part 1C (10 points)\n",
    "\n",
    "Write an evaluator for a program (list of statements + return expression) that evaluates the program and returns the final value of the return expression after the statements in the program are run one by one. We explain how to evaluate a program step by step on an example program\n",
    "\n",
    "~~~\n",
    "x := 15 //Stmt1\n",
    "y := x - 10 // Stmt 2\n",
    "z := y + 5 // Stmt 3\n",
    "x+ y+ z // Return expression\n",
    "~~~\n",
    "\n",
    "This program should return the value 30. The key idea is this:\n",
    "\n",
    "a) Start with an empty environment map to begin with.\n",
    "b) Execute each statement in the list of statements from beginning to end.\n",
    "   When you execute the statement, do so with the current map and the return value is the next map.\n",
    "c) Evaluate the return expression on the final map after you have executed all the statements.\n",
    "\n",
    "Complete the code below. You can use loops and var for now. We will show you how to avoid it later.\n",
    "\n",
    "Here is how you iterate through each element of a list in scala: \n",
    "\n",
    "~~~\n",
    "for (item <- lst){\n",
    "    // Do stuff with item\n",
    "}\n",
    "~~~"
   ]
  },
  {
   "cell_type": "code",
   "execution_count": 7,
   "metadata": {
    "nbgrader": {
     "grade": false,
     "grade_id": "p1c-ans",
     "locked": false,
     "schema_version": 3,
     "solution": true,
     "task": false
    }
   },
   "outputs": [
    {
     "data": {
      "text/plain": [
       "defined \u001b[32mfunction\u001b[39m \u001b[36mevalProgram\u001b[39m"
      ]
     },
     "execution_count": 7,
     "metadata": {},
     "output_type": "execute_result"
    }
   ],
   "source": [
    "def evalProgram(p: Program): Double = p match {\n",
    "    case CalcProgram(lstOfStatement, returnExpr) => {\n",
    "        //BEGIN SOLUTION\n",
    "        var env = Map[String,Double]()\n",
    "        for (stmt <- lstOfStatement){\n",
    "            env = evalStatement(stmt, env)\n",
    "        }\n",
    "        evalExpr(returnExpr, env)\n",
    "        //END SOLUTION\n",
    "    }\n",
    "}"
   ]
  },
  {
   "cell_type": "code",
   "execution_count": 8,
   "metadata": {
    "nbgrader": {
     "grade": true,
     "grade_id": "p1c-test1",
     "locked": true,
     "points": 5,
     "schema_version": 3,
     "solution": false,
     "task": false
    }
   },
   "outputs": [
    {
     "name": "stdout",
     "output_type": "stream",
     "text": [
      "6.0\n",
      "*** Tests Passed (5 points) ***\n"
     ]
    },
    {
     "data": {
      "text/plain": [
       "\u001b[36mv1\u001b[39m: \u001b[32mAssignment\u001b[39m = \u001b[33mAssignment\u001b[39m(\u001b[32m\"x\"\u001b[39m, \u001b[33mConst\u001b[39m(\u001b[32m2.0\u001b[39m))\n",
       "\u001b[36mv2\u001b[39m: \u001b[32mAssignment\u001b[39m = \u001b[33mAssignment\u001b[39m(\u001b[32m\"y\"\u001b[39m, \u001b[33mPlus\u001b[39m(\u001b[33mVar\u001b[39m(\u001b[32m\"x\"\u001b[39m), \u001b[33mConst\u001b[39m(\u001b[32m4.0\u001b[39m)))\n",
       "\u001b[36mv3\u001b[39m: \u001b[32mAssignment\u001b[39m = \u001b[33mAssignment\u001b[39m(\u001b[32m\"z\"\u001b[39m, \u001b[33mVar\u001b[39m(\u001b[32m\"y\"\u001b[39m))\n",
       "\u001b[36mp1\u001b[39m: \u001b[32mCalcProgram\u001b[39m = \u001b[33mCalcProgram\u001b[39m(\n",
       "  \u001b[33mList\u001b[39m(\n",
       "    \u001b[33mAssignment\u001b[39m(\u001b[32m\"x\"\u001b[39m, \u001b[33mConst\u001b[39m(\u001b[32m2.0\u001b[39m)),\n",
       "    \u001b[33mAssignment\u001b[39m(\u001b[32m\"y\"\u001b[39m, \u001b[33mPlus\u001b[39m(\u001b[33mVar\u001b[39m(\u001b[32m\"x\"\u001b[39m), \u001b[33mConst\u001b[39m(\u001b[32m4.0\u001b[39m))),\n",
       "    \u001b[33mAssignment\u001b[39m(\u001b[32m\"z\"\u001b[39m, \u001b[33mVar\u001b[39m(\u001b[32m\"y\"\u001b[39m))\n",
       "  ),\n",
       "  \u001b[33mVar\u001b[39m(\u001b[32m\"z\"\u001b[39m)\n",
       ")"
      ]
     },
     "execution_count": 8,
     "metadata": {},
     "output_type": "execute_result"
    }
   ],
   "source": [
    "//BEGIN TEST\n",
    "val v1 = Assignment(\"x\", Const(2.0))\n",
    "val v2 = Assignment(\"y\", Plus(Var(\"x\"), Const(4.0)))\n",
    "val v3 = Assignment(\"z\", Var(\"y\"))\n",
    "val p1 = CalcProgram(List(v1, v2, v3), Var(\"z\"))\n",
    "print(evalProgram(p1))\n",
    "assert(evalProgram(p1) == 6)\n",
    "passed(5)\n",
    "//END TEST"
   ]
  },
  {
   "cell_type": "code",
   "execution_count": 9,
   "metadata": {
    "nbgrader": {
     "grade": true,
     "grade_id": "p1c-test2",
     "locked": true,
     "points": 5,
     "schema_version": 3,
     "solution": false,
     "task": false
    }
   },
   "outputs": [
    {
     "name": "stdout",
     "output_type": "stream",
     "text": [
      "256.0\n",
      "*** Tests Passed (5 points) ***\n"
     ]
    },
    {
     "data": {
      "text/plain": [
       "\u001b[36mvv1\u001b[39m: \u001b[32mAssignment\u001b[39m = \u001b[33mAssignment\u001b[39m(\u001b[32m\"x\"\u001b[39m, \u001b[33mConst\u001b[39m(\u001b[32m2.0\u001b[39m))\n",
       "\u001b[36mvv2\u001b[39m: \u001b[32mAssignment\u001b[39m = \u001b[33mAssignment\u001b[39m(\u001b[32m\"y\"\u001b[39m, \u001b[33mStar\u001b[39m(\u001b[33mVar\u001b[39m(\u001b[32m\"x\"\u001b[39m), \u001b[33mVar\u001b[39m(\u001b[32m\"x\"\u001b[39m)))\n",
       "\u001b[36mvv3\u001b[39m: \u001b[32mAssignment\u001b[39m = \u001b[33mAssignment\u001b[39m(\u001b[32m\"z\"\u001b[39m, \u001b[33mStar\u001b[39m(\u001b[33mVar\u001b[39m(\u001b[32m\"y\"\u001b[39m), \u001b[33mVar\u001b[39m(\u001b[32m\"y\"\u001b[39m)))\n",
       "\u001b[36mvv4\u001b[39m: \u001b[32mAssignment\u001b[39m = \u001b[33mAssignment\u001b[39m(\u001b[32m\"w\"\u001b[39m, \u001b[33mStar\u001b[39m(\u001b[33mVar\u001b[39m(\u001b[32m\"z\"\u001b[39m), \u001b[33mVar\u001b[39m(\u001b[32m\"z\"\u001b[39m)))\n",
       "\u001b[36mp2\u001b[39m: \u001b[32mCalcProgram\u001b[39m = \u001b[33mCalcProgram\u001b[39m(\n",
       "  \u001b[33mList\u001b[39m(\n",
       "    \u001b[33mAssignment\u001b[39m(\u001b[32m\"x\"\u001b[39m, \u001b[33mConst\u001b[39m(\u001b[32m2.0\u001b[39m)),\n",
       "    \u001b[33mAssignment\u001b[39m(\u001b[32m\"y\"\u001b[39m, \u001b[33mStar\u001b[39m(\u001b[33mVar\u001b[39m(\u001b[32m\"x\"\u001b[39m), \u001b[33mVar\u001b[39m(\u001b[32m\"x\"\u001b[39m))),\n",
       "    \u001b[33mAssignment\u001b[39m(\u001b[32m\"z\"\u001b[39m, \u001b[33mStar\u001b[39m(\u001b[33mVar\u001b[39m(\u001b[32m\"y\"\u001b[39m), \u001b[33mVar\u001b[39m(\u001b[32m\"y\"\u001b[39m))),\n",
       "    \u001b[33mAssignment\u001b[39m(\u001b[32m\"w\"\u001b[39m, \u001b[33mStar\u001b[39m(\u001b[33mVar\u001b[39m(\u001b[32m\"z\"\u001b[39m), \u001b[33mVar\u001b[39m(\u001b[32m\"z\"\u001b[39m)))\n",
       "  ),\n",
       "  \u001b[33mVar\u001b[39m(\u001b[32m\"w\"\u001b[39m)\n",
       ")"
      ]
     },
     "execution_count": 9,
     "metadata": {},
     "output_type": "execute_result"
    }
   ],
   "source": [
    "//BEGIN TEST\n",
    "val vv1 = Assignment(\"x\", Const(2.0))\n",
    "val vv2 = Assignment(\"y\", Star(Var(\"x\"), Var(\"x\")))\n",
    "val vv3 = Assignment(\"z\", Star(Var(\"y\"), Var(\"y\")))\n",
    "val vv4 = Assignment(\"w\", Star(Var(\"z\"), Var(\"z\")))\n",
    "val p2 = CalcProgram(List(vv1, vv2, vv3, vv4), Var(\"w\"))\n",
    "print(evalProgram(p2))\n",
    "assert(evalProgram(p2) == 256)\n",
    "passed(5)\n",
    "//END TEST"
   ]
  },
  {
   "cell_type": "markdown",
   "metadata": {
    "nbgrader": {
     "grade": false,
     "grade_id": "cell-33da7cb13bb6465f",
     "locked": true,
     "schema_version": 3,
     "solution": false
    }
   },
   "source": [
    "## Problem 2 (20 points)\n",
    "\n",
    "### A (5 points)\n",
    "We defined lists in the class. Write a recursive procedure to get the nth element of the list or throw an `IllegalArgumentException` if $n < 0$ or $n >= \\text{length of list} $. Assume $n=0$ obtains the very first element\n",
    "and $n = \\text{length of list} -1$ yields very last element. "
   ]
  },
  {
   "cell_type": "code",
   "execution_count": 10,
   "metadata": {
    "nbgrader": {
     "grade": false,
     "grade_id": "p2a-ans",
     "locked": false,
     "schema_version": 3,
     "solution": true
    }
   },
   "outputs": [
    {
     "data": {
      "text/plain": [
       "defined \u001b[32mtrait\u001b[39m \u001b[36mNumList\u001b[39m\n",
       "defined \u001b[32mobject\u001b[39m \u001b[36mNil\u001b[39m\n",
       "defined \u001b[32mclass\u001b[39m \u001b[36mCons\u001b[39m\n",
       "defined \u001b[32mfunction\u001b[39m \u001b[36mgetNthElement\u001b[39m"
      ]
     },
     "execution_count": 10,
     "metadata": {},
     "output_type": "execute_result"
    }
   ],
   "source": [
    "sealed trait NumList\n",
    "case object Nil extends NumList\n",
    "case class Cons(n: Int, l: NumList) extends NumList \n",
    "\n",
    "def getNthElement(lst: NumList, n: Int): Int = {\n",
    "    //BEGIN SOLUTION\n",
    "    lst match {\n",
    "        case Nil => throw new IllegalArgumentException()\n",
    "        case Cons(elt, rest) => if (n == 0){ return elt } \n",
    "                                else if (n < 0){ throw new IllegalArgumentException ()}\n",
    "                                else { getNthElement(rest, n-1) }\n",
    "    }\n",
    "    //END SOLUTION\n",
    "}"
   ]
  },
  {
   "cell_type": "code",
   "execution_count": 11,
   "metadata": {
    "nbgrader": {
     "grade": true,
     "grade_id": "p2a-test",
     "locked": true,
     "points": 5,
     "schema_version": 3,
     "solution": false
    }
   },
   "outputs": [
    {
     "name": "stdout",
     "output_type": "stream",
     "text": [
      "\n",
      "*** Tests Passed (5 points) ***\n"
     ]
    },
    {
     "data": {
      "text/plain": [
       "\u001b[36ml1\u001b[39m: \u001b[32mNil\u001b[39m = Nil\n",
       "\u001b[36ml2\u001b[39m: \u001b[32mCons\u001b[39m = \u001b[33mCons\u001b[39m(\u001b[32m1\u001b[39m, \u001b[33mCons\u001b[39m(\u001b[32m-1\u001b[39m, Nil))\n",
       "\u001b[36ml3\u001b[39m: \u001b[32mCons\u001b[39m = \u001b[33mCons\u001b[39m(\u001b[32m1\u001b[39m, \u001b[33mCons\u001b[39m(\u001b[32m2\u001b[39m, \u001b[33mCons\u001b[39m(\u001b[32m1\u001b[39m, \u001b[33mCons\u001b[39m(\u001b[32m-1\u001b[39m, Nil))))\n",
       "\u001b[36ml4\u001b[39m: \u001b[32mCons\u001b[39m = \u001b[33mCons\u001b[39m(\u001b[32m0\u001b[39m, \u001b[33mCons\u001b[39m(\u001b[32m4\u001b[39m, \u001b[33mCons\u001b[39m(\u001b[32m8\u001b[39m, \u001b[33mCons\u001b[39m(\u001b[32m1\u001b[39m, \u001b[33mCons\u001b[39m(\u001b[32m2\u001b[39m, \u001b[33mCons\u001b[39m(\u001b[32m1\u001b[39m, \u001b[33mCons\u001b[39m(\u001b[32m-1\u001b[39m, Nil)))))))\n",
       "\u001b[36mtest1\u001b[39m: \u001b[32mAny\u001b[39m = \u001b[32m\"OK\"\u001b[39m\n",
       "\u001b[36mtest2\u001b[39m: \u001b[32mAny\u001b[39m = \u001b[32m\"OK\"\u001b[39m"
      ]
     },
     "execution_count": 11,
     "metadata": {},
     "output_type": "execute_result"
    }
   ],
   "source": [
    "val l1 = Nil\n",
    "val l2 = Cons(1, Cons(-1, Nil))\n",
    "val l3 = Cons(1, Cons(2, l2))\n",
    "val l4 = Cons(0, Cons(4, Cons(8, l3)))\n",
    "\n",
    "val test1 = try {\n",
    "    getNthElement(Nil, 3);\n",
    "    assert(false, \"Test 1 : getNthElement(Nil, 3) should raise an IllegalArgumentException. Your code did not.\")\n",
    "} catch {\n",
    "    case e: IllegalArgumentException => \"OK\"\n",
    "} \n",
    "\n",
    "assert(getNthElement(l2, 0) == 1, \"Test2: getNthElement(l2, 0)  failed (expected answer = 1)\")\n",
    "assert(getNthElement(l3, 3) == -1, \"Test3: getNthElement(l3, 3)  failed (expected answer = -1)\")\n",
    "assert(getNthElement(l4, 2) == 8, \"Test4: getNthElement(l4, 2)  failed (expected answer = 8)\")\n",
    "\n",
    "val test2 = try {\n",
    "    getNthElement(l4, 8);\n",
    "    assert(false, \"Test 5 : getNthElement(l4, 8) should raise an IllegalArgumentException. Your code did not.\")\n",
    "} catch {\n",
    "    case e: IllegalArgumentException => \"OK\"\n",
    "}\n",
    "\n",
    "passed(5)"
   ]
  },
  {
   "cell_type": "markdown",
   "metadata": {
    "nbgrader": {
     "grade": false,
     "grade_id": "cell-f33dba0762a43adc",
     "locked": true,
     "schema_version": 3,
     "solution": false
    }
   },
   "source": [
    "### B (7 points)\n",
    "Write a recursive procedure that returns true if the list has the Fibonacci property. I.e, every element at position $i \\geq 2$ is the sum of the two preceding elements. Note that the property is trivially true for lists of sizes $0$ and $1$."
   ]
  },
  {
   "cell_type": "code",
   "execution_count": 12,
   "metadata": {
    "nbgrader": {
     "grade": false,
     "grade_id": "p2b-ans",
     "locked": false,
     "schema_version": 3,
     "solution": true
    }
   },
   "outputs": [
    {
     "data": {
      "text/plain": [
       "defined \u001b[32mfunction\u001b[39m \u001b[36misFibonacciList\u001b[39m"
      ]
     },
     "execution_count": 12,
     "metadata": {},
     "output_type": "execute_result"
    }
   ],
   "source": [
    "def isFibonacciList(lst: NumList): Boolean = {\n",
    "    //BEGIN SOLUTION\n",
    "    lst match {\n",
    "        case Nil => true\n",
    "        case Cons(i1, Nil) => true\n",
    "        case Cons(i1, Cons(i2, Nil)) => true\n",
    "        case Cons(i1, (rest @ Cons(i2, Cons(i3, _))) ) if (i3 == i1 + i2) => isFibonacciList(rest)\n",
    "        case _ => false\n",
    "    }\n",
    "    //END SOLUTION\n",
    "}"
   ]
  },
  {
   "cell_type": "code",
   "execution_count": 13,
   "metadata": {
    "nbgrader": {
     "grade": true,
     "grade_id": "p2b-test",
     "locked": true,
     "points": 7,
     "schema_version": 3,
     "solution": false
    }
   },
   "outputs": [
    {
     "name": "stdout",
     "output_type": "stream",
     "text": [
      "\n",
      "*** Tests Passed (7 points) ***\n"
     ]
    },
    {
     "data": {
      "text/plain": [
       "\u001b[36ml1\u001b[39m: \u001b[32mCons\u001b[39m = \u001b[33mCons\u001b[39m(\u001b[32m12\u001b[39m, \u001b[33mCons\u001b[39m(\u001b[32m25\u001b[39m, \u001b[33mCons\u001b[39m(\u001b[32m37\u001b[39m, Nil)))\n",
       "\u001b[36ml2\u001b[39m: \u001b[32mCons\u001b[39m = \u001b[33mCons\u001b[39m(\u001b[32m14\u001b[39m, \u001b[33mCons\u001b[39m(\u001b[32m-1\u001b[39m, \u001b[33mCons\u001b[39m(\u001b[32m13\u001b[39m, \u001b[33mCons\u001b[39m(\u001b[32m12\u001b[39m, \u001b[33mCons\u001b[39m(\u001b[32m25\u001b[39m, \u001b[33mCons\u001b[39m(\u001b[32m37\u001b[39m, Nil))))))\n",
       "\u001b[36ml3\u001b[39m: \u001b[32mCons\u001b[39m = \u001b[33mCons\u001b[39m(\n",
       "  \u001b[32m7\u001b[39m,\n",
       "  \u001b[33mCons\u001b[39m(\u001b[32m7\u001b[39m, \u001b[33mCons\u001b[39m(\u001b[32m14\u001b[39m, \u001b[33mCons\u001b[39m(\u001b[32m-1\u001b[39m, \u001b[33mCons\u001b[39m(\u001b[32m13\u001b[39m, \u001b[33mCons\u001b[39m(\u001b[32m12\u001b[39m, \u001b[33mCons\u001b[39m(\u001b[32m25\u001b[39m, \u001b[33mCons\u001b[39m(\u001b[32m37\u001b[39m, Nil)))))))\n",
       ")\n",
       "\u001b[36ml4\u001b[39m: \u001b[32mCons\u001b[39m = \u001b[33mCons\u001b[39m(\u001b[32m0\u001b[39m, \u001b[33mCons\u001b[39m(\u001b[32m0\u001b[39m, \u001b[33mCons\u001b[39m(\u001b[32m0\u001b[39m, \u001b[33mCons\u001b[39m(\u001b[32m0\u001b[39m, \u001b[33mCons\u001b[39m(\u001b[32m0\u001b[39m, \u001b[33mCons\u001b[39m(\u001b[32m0\u001b[39m, Nil))))))"
      ]
     },
     "execution_count": 13,
     "metadata": {},
     "output_type": "execute_result"
    }
   ],
   "source": [
    "val l1 = Cons(12, Cons(25, Cons(37, Nil)))\n",
    "assert(isFibonacciList(l1), \n",
    "       \"Test case 1 :  isFibonacciList(l1) -- should return true\")\n",
    "\n",
    "val l2 = Cons(14, Cons(-1, Cons(13, l1 )))\n",
    "assert(isFibonacciList(l2), \n",
    "       \"Test case 2 :  isFibonacciList(l2) -- should return true\")\n",
    "\n",
    "val l3 = Cons(7, Cons(7, l2))\n",
    "\n",
    "assert(!isFibonacciList(l3), \n",
    "       \"Test case 3 :  isFibonacciList(l3) -- should return false\")\n",
    "\n",
    "val l4 = Cons(0, Cons(0, Cons(0, Cons(0, Cons(0, Cons(0, Nil))))))\n",
    "assert(isFibonacciList(l2), \n",
    "       \"Test case 4:  isFibonacciList(l4) -- should return true\")\n",
    "\n",
    "passed(7)"
   ]
  },
  {
   "cell_type": "markdown",
   "metadata": {
    "nbgrader": {
     "grade": false,
     "grade_id": "cell-d4f6c640c40f9924",
     "locked": true,
     "schema_version": 3,
     "solution": false
    }
   },
   "source": [
    "### C (8 points)\n",
    "Write a recursive function `filterNumList(l: NumList, f: Int => Boolean): NumList` that takes in a `NumList` and a function `f: Int => Boolean`. \n",
    "\n",
    "1. It should return a new list that consist of all elements of the list `l` that return `true` when the function `f` is called on them.\n",
    "2. The returned list elements must preserve the same order as in the original list."
   ]
  },
  {
   "cell_type": "code",
   "execution_count": 14,
   "metadata": {
    "nbgrader": {
     "grade": false,
     "grade_id": "p2c-ans",
     "locked": false,
     "schema_version": 3,
     "solution": true
    }
   },
   "outputs": [
    {
     "data": {
      "text/plain": [
       "defined \u001b[32mfunction\u001b[39m \u001b[36mfilterNumList\u001b[39m"
      ]
     },
     "execution_count": 14,
     "metadata": {},
     "output_type": "execute_result"
    }
   ],
   "source": [
    "// BEGIN SOLUTION\n",
    "def filterNumList(l: NumList, f: Int => Boolean): NumList = l match {\n",
    "    case Nil => Nil\n",
    "    case Cons(j, rest) if f(j) => Cons(j, filterNumList(rest, f)) \n",
    "    case Cons(_, rest) => filterNumList(rest, f)\n",
    "}\n",
    "// END SOLUTION"
   ]
  },
  {
   "cell_type": "code",
   "execution_count": 15,
   "metadata": {
    "nbgrader": {
     "grade": true,
     "grade_id": "p2c-test1",
     "locked": true,
     "points": 8,
     "schema_version": 3,
     "solution": false
    }
   },
   "outputs": [
    {
     "name": "stdout",
     "output_type": "stream",
     "text": [
      "\n",
      "*** Tests Passed (8 points) ***\n"
     ]
    },
    {
     "data": {
      "text/plain": [
       "\u001b[36ml1\u001b[39m: \u001b[32mCons\u001b[39m = \u001b[33mCons\u001b[39m(\u001b[32m12\u001b[39m, \u001b[33mCons\u001b[39m(\u001b[32m25\u001b[39m, \u001b[33mCons\u001b[39m(\u001b[32m37\u001b[39m, Nil)))\n",
       "defined \u001b[32mfunction\u001b[39m \u001b[36mf1\u001b[39m\n",
       "\u001b[36ml2\u001b[39m: \u001b[32mCons\u001b[39m = \u001b[33mCons\u001b[39m(\u001b[32m22\u001b[39m, \u001b[33mCons\u001b[39m(\u001b[32m135\u001b[39m, \u001b[33mCons\u001b[39m(\u001b[32m137\u001b[39m, \u001b[33mCons\u001b[39m(\u001b[32m12\u001b[39m, \u001b[33mCons\u001b[39m(\u001b[32m25\u001b[39m, \u001b[33mCons\u001b[39m(\u001b[32m37\u001b[39m, Nil))))))\n",
       "defined \u001b[32mfunction\u001b[39m \u001b[36mf2\u001b[39m\n",
       "defined \u001b[32mfunction\u001b[39m \u001b[36mf3\u001b[39m\n",
       "\u001b[36ml4\u001b[39m: \u001b[32mCons\u001b[39m = \u001b[33mCons\u001b[39m(\u001b[32m0\u001b[39m, \u001b[33mCons\u001b[39m(\u001b[32m0\u001b[39m, \u001b[33mCons\u001b[39m(\u001b[32m0\u001b[39m, \u001b[33mCons\u001b[39m(\u001b[32m0\u001b[39m, \u001b[33mCons\u001b[39m(\u001b[32m0\u001b[39m, \u001b[33mCons\u001b[39m(\u001b[32m0\u001b[39m, Nil))))))\n",
       "defined \u001b[32mfunction\u001b[39m \u001b[36mf4\u001b[39m"
      ]
     },
     "execution_count": 15,
     "metadata": {},
     "output_type": "execute_result"
    }
   ],
   "source": [
    "val l1 = Cons(12, Cons(25, Cons(37, Nil)))\n",
    "def f1(j: Int): Boolean =  j <= 25 && j >= 12\n",
    "assert(filterNumList(l1, f1) == Cons(12, Cons(25, Nil)), \"Test 1 failed.\")\n",
    "\n",
    "\n",
    "val l2 = Cons(22, Cons(135, Cons(137, l1)))\n",
    "def f2(j: Int): Boolean =  j % 5 == 0\n",
    "assert(filterNumList(l2, f2) == Cons(135, Cons(25, Nil)), \"Test 2 failed.\")\n",
    "\n",
    "def f3(j: Int): Boolean =  j >= 210\n",
    "assert(filterNumList(l2, f3) == Nil, \"Test 3 failed.\")\n",
    "assert(filterNumList(Nil, f3) == Nil, \"Test 4 failed.\")\n",
    "\n",
    "val l4 = Cons(0, Cons(0, Cons(0, Cons(0, Cons(0, Cons(0, Nil))))))\n",
    "\n",
    "def f4(j: Int): Boolean =  j <= 0\n",
    "assert(filterNumList(l4, f4) == l4, \"Test 5 failed\")\n",
    "\n",
    "passed(8)"
   ]
  }
 ],
 "metadata": {
  "celltoolbar": "Create Assignment",
  "kernelspec": {
   "display_name": "Scala",
   "language": "scala",
   "name": "scala"
  },
  "language_info": {
   "codemirror_mode": "text/x-scala",
   "file_extension": ".scala",
   "mimetype": "text/x-scala",
   "name": "scala",
   "nbconvert_exporter": "script",
   "version": "2.12.8"
  }
 },
 "nbformat": 4,
 "nbformat_minor": 2
}
