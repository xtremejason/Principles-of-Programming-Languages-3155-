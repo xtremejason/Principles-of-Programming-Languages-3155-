{
 "cells": [
  {
   "cell_type": "markdown",
   "metadata": {
    "nbgrader": {
     "grade": false,
     "grade_id": "cell-e0dcd8e0c2513390",
     "locked": true,
     "schema_version": 3,
     "solution": false
    }
   },
   "source": [
    "# CSCI 3155: Assignment 2\n",
    "\n",
    "Topics covered: recursion and inductive definitions."
   ]
  },
  {
   "cell_type": "markdown",
   "metadata": {},
   "source": [
    "__YOUR NAME HERE__"
   ]
  },
  {
   "cell_type": "code",
   "execution_count": 1,
   "metadata": {
    "nbgrader": {
     "grade": false,
     "grade_id": "cell-0ff5abf81cd57123",
     "locked": true,
     "schema_version": 3,
     "solution": false
    }
   },
   "outputs": [
    {
     "data": {
      "text/plain": [
       "defined \u001b[32mfunction\u001b[39m \u001b[36mpassed\u001b[39m"
      ]
     },
     "execution_count": 1,
     "metadata": {},
     "output_type": "execute_result"
    }
   ],
   "source": [
    "// TEST HELPER: DO NOT EDIT\n",
    "def passed(points: Int) {\n",
    "    require(points >=0)\n",
    "    if (points == 1) print(s\"\\n*** Tests Passed (1 point) ***\\n\")\n",
    "    else print(s\"\\n*** Tests Passed ($points points) ***\\n\")\n",
    "}"
   ]
  },
  {
   "cell_type": "markdown",
   "metadata": {
    "nbgrader": {
     "grade": false,
     "grade_id": "cell-edc3a04e8cb8306b",
     "locked": true,
     "schema_version": 3,
     "solution": false
    }
   },
   "source": [
    "## Problem 1 (15 points total)"
   ]
  },
  {
   "cell_type": "markdown",
   "metadata": {
    "nbgrader": {
     "grade": false,
     "grade_id": "cell-b52581c289282f6d",
     "locked": true,
     "schema_version": 3,
     "solution": false
    }
   },
   "source": [
    "### A (5 points) Recursive `cubeIt`\n",
    "\n",
    "Here is a definition of a recursive function to compute $n^3$ for an integer $n$.\n",
    "\n",
    "$$\\mbox{cubeIt}(n) = \\left\\{ \\begin{array}{ll} \n",
    "0 & \\mbox{if}\\ n = 0 \\\\\n",
    "\\mbox{cubeIt}(n-1) + 3n^2 - 3n + 1,\\ & \\mbox{if}\\ n > 0 \\\\\n",
    "\\mbox{cubeIt}(n+1) - 3 n^2 - 3 n - 1 & \\mbox{if}\\ n < 0 \\\\\n",
    "\\end{array}\\right.$$\n",
    "\n",
    "Implement this recursion as a scala function `cubeIt`. Note (a) your code does not have to be tail recursive (see part B below), and (b) Be careful: `n^2` in scala is not the same as `n*n`. The `^` operator does XOR in scala."
   ]
  },
  {
   "cell_type": "code",
   "execution_count": 2,
   "metadata": {
    "nbgrader": {
     "grade": false,
     "grade_id": "answer_1a",
     "locked": false,
     "schema_version": 3,
     "solution": true
    },
    "scrolled": true
   },
   "outputs": [
    {
     "data": {
      "text/plain": [
       "defined \u001b[32mfunction\u001b[39m \u001b[36mcubeIt\u001b[39m"
      ]
     },
     "execution_count": 2,
     "metadata": {},
     "output_type": "execute_result"
    }
   ],
   "source": [
    "def cubeIt(n: Int): Int = { \n",
    "    //BEGIN SOLUTION\n",
    "    if (n == 0){\n",
    "        0\n",
    "    } else if (n > 0){\n",
    "        cubeIt(n-1) + 3 *n*n - 3*n + 1\n",
    "    } else {\n",
    "        cubeIt(n+1) - 3 *n*n - 3*n - 1\n",
    "    }\n",
    "    //END SOLUTION\n",
    "}"
   ]
  },
  {
   "cell_type": "code",
   "execution_count": 3,
   "metadata": {
    "nbgrader": {
     "grade": true,
     "grade_id": "tests_1a",
     "locked": true,
     "points": 5,
     "schema_version": 3,
     "solution": false
    }
   },
   "outputs": [
    {
     "name": "stdout",
     "output_type": "stream",
     "text": [
      "\n",
      "*** Tests Passed (5 points) ***\n"
     ]
    },
    {
     "data": {
      "text/plain": [
       "defined \u001b[32mfunction\u001b[39m \u001b[36mcheckCubeItFun\u001b[39m"
      ]
     },
     "execution_count": 3,
     "metadata": {},
     "output_type": "execute_result"
    }
   ],
   "source": [
    "// BEGIN TESTS\n",
    "assert(cubeIt(5) == 125)\n",
    "assert(cubeIt(-5) == -125)\n",
    "assert(cubeIt(-3) == -27)\n",
    "assert(cubeIt(0) == 0)\n",
    "// JUST TEST from -100 to 100\n",
    "def checkCubeItFun(x: Int): Boolean = cubeIt(x) == x*x*x\n",
    "assert( (-100 to 100).forall(checkCubeItFun))\n",
    "passed(5)\n",
    "// END TESTS"
   ]
  },
  {
   "cell_type": "markdown",
   "metadata": {
    "nbgrader": {
     "grade": false,
     "grade_id": "cell-12d5214e2a806a43",
     "locked": true,
     "schema_version": 3,
     "solution": false
    }
   },
   "source": [
    "### B (10 points) _Tail_ Recursive `cubeIt`\n",
    "Now, write a tail recursive version of the `cubeIt` function above, called `cubeItTail`. \n",
    "We have setup a helper function with an *accumulator* argument for you, to help you out. Do not remove the @tailrec annotation. It is part of the autograder: you can learn more about it's meaning here -- https://www.scala-exercises.org/scala_tutorial/tail_recursion"
   ]
  },
  {
   "cell_type": "code",
   "execution_count": 4,
   "metadata": {
    "nbgrader": {
     "grade": false,
     "grade_id": "answer_1b",
     "locked": false,
     "schema_version": 3,
     "solution": true
    }
   },
   "outputs": [
    {
     "data": {
      "text/plain": [
       "\u001b[32mimport \u001b[39m\u001b[36mscala.annotation.tailrec\n",
       "\n",
       "\u001b[39m\n",
       "defined \u001b[32mfunction\u001b[39m \u001b[36mcubeItHelper\u001b[39m\n",
       "defined \u001b[32mfunction\u001b[39m \u001b[36mcubeItTail\u001b[39m"
      ]
     },
     "execution_count": 4,
     "metadata": {},
     "output_type": "execute_result"
    }
   ],
   "source": [
    "import scala.annotation.tailrec\n",
    "\n",
    "@tailrec\n",
    "def cubeItHelper(n: Int, acc: Int): Int = { /* Implement cubeIt as a tail recursion */\n",
    "    //BEGIN SOLUTION\n",
    "    if (n == 0) { acc }\n",
    "    else { \n",
    "        if (n < 0){\n",
    "            cubeItHelper(n+1, acc - 3 *n*n - 3 *n -1)\n",
    "        } else {\n",
    "            cubeItHelper(n-1, acc + 3 * n*n - 3 * n + 1)\n",
    "        }\n",
    "    }\n",
    "    //END SOLUTION\n",
    "}\n",
    "\n",
    "/*- \n",
    "This is the main function that the users will use. \n",
    "It should call the helper with the correct initial value of acc argument. \n",
    "Just replace the ??? with the correct initial value for the acc argument.\n",
    "-*/\n",
    "\n",
    "def cubeItTail(n: Int): Int = { \n",
    "    cubeItHelper(n, \n",
    "                //BEGIN SOLUTION\n",
    "                 0\n",
    "                //END SOLUTION\n",
    "                )\n",
    "}\n"
   ]
  },
  {
   "cell_type": "code",
   "execution_count": 5,
   "metadata": {
    "nbgrader": {
     "grade": true,
     "grade_id": "tests_1b",
     "locked": true,
     "points": 10,
     "schema_version": 3,
     "solution": false
    }
   },
   "outputs": [
    {
     "name": "stdout",
     "output_type": "stream",
     "text": [
      "\n",
      "*** Tests Passed (10 points) ***\n"
     ]
    }
   ],
   "source": [
    "//BEGIN TEST\n",
    "assert(cubeItTail(5) == 125)\n",
    "assert(cubeItTail(-5) == -125)\n",
    "assert(cubeItTail(-3) == -27)\n",
    "assert(cubeItTail(0) == 0)\n",
    "assert( (-100 to 100).forall( x => (cubeItTail(x) == x * x * x)), \"Test Passed!\")\n",
    "passed(10)\n",
    "//END TEST"
   ]
  },
  {
   "cell_type": "markdown",
   "metadata": {
    "nbgrader": {
     "grade": false,
     "grade_id": "cell-ea75378d2e0e50c2",
     "locked": true,
     "schema_version": 3,
     "solution": false
    }
   },
   "source": [
    "## Problem 2 (10 points)"
   ]
  },
  {
   "cell_type": "markdown",
   "metadata": {
    "nbgrader": {
     "grade": false,
     "grade_id": "cell-a31ca50d2103983a",
     "locked": true,
     "schema_version": 3,
     "solution": false,
     "task": false
    }
   },
   "source": [
    "We have given scala code using a while loop that converts a bit string with 0s and 1s into its decimal equivalent."
   ]
  },
  {
   "cell_type": "code",
   "execution_count": 6,
   "metadata": {
    "nbgrader": {
     "grade": false,
     "grade_id": "cell-873c8b4f389c721f",
     "locked": true,
     "schema_version": 3,
     "solution": false,
     "task": false
    }
   },
   "outputs": [
    {
     "data": {
      "text/plain": [
       "defined \u001b[32mfunction\u001b[39m \u001b[36mconvertToDecimal\u001b[39m"
      ]
     },
     "execution_count": 6,
     "metadata": {},
     "output_type": "execute_result"
    }
   ],
   "source": [
    "def convertToDecimal(bStr : String): Int = {\n",
    "    var bitStr = bStr // Make a copy of the string\n",
    "    var acc = 0 // Initialize the accumulat to 0\n",
    "    while (! bitStr.isEmpty) {\n",
    "        if (bitStr(0) == '0'){ // Is the first character a 0?\n",
    "            acc = 2 * acc // Update acc\n",
    "            bitStr = bitStr.substring(1) // Remove the very first character from the string\n",
    "        } else {\n",
    "            acc = 2 * acc + 1 // Update acc\n",
    "            bitStr = bitStr.substring(1)\n",
    "        }\n",
    "    }\n",
    "    return acc\n",
    "}"
   ]
  },
  {
   "cell_type": "code",
   "execution_count": 7,
   "metadata": {
    "nbgrader": {
     "grade": false,
     "grade_id": "cell-19e11699b6a9fba8",
     "locked": true,
     "schema_version": 3,
     "solution": false,
     "task": false
    }
   },
   "outputs": [
    {
     "name": "stdout",
     "output_type": "stream",
     "text": [
      "9\n",
      "5\n",
      "0\n",
      "28113\n",
      "513\n"
     ]
    }
   ],
   "source": [
    "println(convertToDecimal(\"1001\"))\n",
    "println(convertToDecimal(\"101\"))\n",
    "println(convertToDecimal(\"0000\"))\n",
    "println(convertToDecimal(\"110110111010001\"))\n",
    "println(convertToDecimal(\"1000000001\"))"
   ]
  },
  {
   "cell_type": "markdown",
   "metadata": {
    "nbgrader": {
     "grade": false,
     "grade_id": "cell-a586cec16d8a92e7",
     "locked": true,
     "schema_version": 3,
     "solution": false
    }
   },
   "source": [
    "Note: (a) `string.substring(j)` selects the suffix of string from $j^{th}$ position (positions start at 0) to end; (b) note `string(0)` is the first character of the string;\n",
    "and (c) `string.isEmpty` checks if a string is empty. \n",
    "\n",
    "Implement a *tail recursive* function called `dHelper` over \"bit\" strings (strings whose characters can only be 0 or 1) that converts them from binary to a decimal number using an accumulator argument. For your convenience, we have also translated the while loop into a mathematical definition that you can use.\n",
    "\n",
    "$$\\text{dHelper}(\\text{bStr}, \\text{acc}) = \\left\\{ \\begin{array}{ll} \n",
    "\\text{acc}, & \\text{if bStr is empty}\\\\\n",
    "\\text{dHelper}(\\text{bStr.substring}(1) , 2 *\\text{acc} + 1 ), & \\text{if}\\ \\text{bStr is not empty and  bStr(0) = '1'} \\\\\n",
    "\\text{dHelper}(\\text{bStr.substring}(1) , 2 *\\text{acc}  ), & \\text{if bStr is not empty and bStr(0) = '0'} \\\\\n",
    "\\end{array}\\right.$$\n",
    "\n"
   ]
  },
  {
   "cell_type": "code",
   "execution_count": 8,
   "metadata": {
    "nbgrader": {
     "grade": false,
     "grade_id": "answer_2",
     "locked": false,
     "schema_version": 3,
     "solution": true,
     "task": false
    }
   },
   "outputs": [
    {
     "data": {
      "text/plain": [
       "\u001b[32mimport \u001b[39m\u001b[36mscala.annotation.tailrec\n",
       "\n",
       "\u001b[39m\n",
       "defined \u001b[32mfunction\u001b[39m \u001b[36mdHelper\u001b[39m\n",
       "defined \u001b[32mfunction\u001b[39m \u001b[36mtoDecimal\u001b[39m"
      ]
     },
     "execution_count": 8,
     "metadata": {},
     "output_type": "execute_result"
    }
   ],
   "source": [
    "import scala.annotation.tailrec\n",
    "\n",
    "@tailrec\n",
    "def dHelper(bitStr: String, acc:Int): Int = {\n",
    "    //BEGIN SOLUTION\n",
    "    if (bitStr.isEmpty) { acc }\n",
    "    else if (bitStr(0) == '1') {\n",
    "        dHelper(bitStr.substring(1), 2 * acc + 1)\n",
    "    } else {\n",
    "        dHelper(bitStr.substring(1), 2 * acc)\n",
    "    }\n",
    "    //END SOLUTION\n",
    "}\n",
    "\n",
    "def toDecimal(bitStr: String) = dHelper(bitStr, 0)"
   ]
  },
  {
   "cell_type": "code",
   "execution_count": 9,
   "metadata": {
    "nbgrader": {
     "grade": true,
     "grade_id": "test_2",
     "locked": true,
     "points": 10,
     "schema_version": 3,
     "solution": false
    }
   },
   "outputs": [
    {
     "name": "stdout",
     "output_type": "stream",
     "text": [
      "\n",
      "*** Tests Passed (10 points) ***\n"
     ]
    }
   ],
   "source": [
    "//BEGIN TEST\n",
    "assert(toDecimal(\"0\") == 0)\n",
    "assert(toDecimal(\"10\") == 2)\n",
    "assert(toDecimal(\"1001\") == 9)\n",
    "assert((0 to 100).forall ( x => ( toDecimal(x.toBinaryString) == x)) )\n",
    "//END TEST\n",
    "passed(10)"
   ]
  },
  {
   "cell_type": "markdown",
   "metadata": {
    "nbgrader": {
     "grade": false,
     "grade_id": "cell-81cdcc323818976e",
     "locked": true,
     "schema_version": 3,
     "solution": false
    }
   },
   "source": [
    "## Problem 3 (20 points)\n",
    "\n",
    "Convert the following inductive definition for regular expressions into a grammar first and then into a set of scala classes.\n",
    "\n",
    "A regular expression is defined inductively as follows:\n",
    "- Any string s is an \"atomic\" regular expression.\n",
    "- If $r_1$, $r_2$ are regular expressions then so are\n",
    "  - The concatenation $r_1 ; r_2$, \n",
    "  - The disjunction $r_1 | r_2$, and \n",
    "  - The conjunction $r_1 \\& r_2$.\n",
    "- If $r$ is a regular expression, then its Kleene star $r^*$ is also a regular expression.\n",
    "\n",
    "Use the constructor symbols $\\text{Atom}(s)$ to denote an atomic regular expression, $\\text{Concat}(r_1, r_2)$ for the \";\" operator, $\\text{Or}(r_1, r_2)$ for the \"|\" operator, $\\text{And}(r_1, r_2)$ for the \"&\" operator and $\\text{Star}(r)$ for the Kleene-star operator. You may use\n",
    "the nonterminal $\\textbf{string}$ without definition to denote a string of characters.\n",
    "\n",
    "| Operator | Constructor Symbol to Use |\n",
    "| -------- | --------------------------|\n",
    "| atomic string | Atom |\n",
    "| ; (concatenation operator) | Concat | \n",
    "| \\| (or operator) |  Or |\n",
    "| \\& (and operator) | And |\n",
    "| \\* (Kleene Star) | Star |\n",
    "\n",
    "\n"
   ]
  },
  {
   "cell_type": "markdown",
   "metadata": {
    "nbgrader": {
     "grade": false,
     "grade_id": "cell-f1ddab147675a4e6",
     "locked": true,
     "schema_version": 3,
     "solution": false
    }
   },
   "source": [
    "### A (7 point)\n",
    "Write the grammar using constructor symbols for the inductive definition above. \n",
    "\n",
    "__Tip:__ you can examine the notes or the recitation notebooks to see how we typeset the grammar. There are no tests for this because it will be manualy graded."
   ]
  },
  {
   "cell_type": "markdown",
   "metadata": {
    "nbgrader": {
     "grade": true,
     "grade_id": "answer_3a",
     "locked": false,
     "points": 7,
     "schema_version": 3,
     "solution": true
    }
   },
   "source": [
    "$$\\begin{array}{rcl}\n",
    "\\textbf{Regex} & \\rightarrow & {Atom}(\\textbf{string}) \\\\\n",
    "& | & {Concat}(\\textbf{Regex}, \\textbf{Regex}) \\\\\n",
    "& | & {Or}(\\textbf{Regex}, \\textbf{Regex}) \\\\\n",
    "& | & {And}(\\textbf{Regex}, \\textbf{Regex}) \\\\\n",
    "& | & {Star}(\\textbf{Regex}) \\\\\n",
    "\\end{array}$$"
   ]
  },
  {
   "cell_type": "markdown",
   "metadata": {
    "nbgrader": {
     "grade": false,
     "grade_id": "cell-e0e8da3d6108f6e2",
     "locked": true,
     "schema_version": 3,
     "solution": false
    }
   },
   "source": [
    "### B (7 points)\n",
    "Define the structure as a set of case class in scala.\n"
   ]
  },
  {
   "cell_type": "code",
   "execution_count": 10,
   "metadata": {
    "nbgrader": {
     "grade": false,
     "grade_id": "answer_3b",
     "locked": false,
     "schema_version": 3,
     "solution": true
    }
   },
   "outputs": [
    {
     "data": {
      "text/plain": [
       "defined \u001b[32mtrait\u001b[39m \u001b[36mRegex\u001b[39m\n",
       "defined \u001b[32mclass\u001b[39m \u001b[36mAtom\u001b[39m\n",
       "defined \u001b[32mclass\u001b[39m \u001b[36mConcat\u001b[39m\n",
       "defined \u001b[32mclass\u001b[39m \u001b[36mOr\u001b[39m\n",
       "defined \u001b[32mclass\u001b[39m \u001b[36mAnd\u001b[39m\n",
       "defined \u001b[32mclass\u001b[39m \u001b[36mStar\u001b[39m"
      ]
     },
     "execution_count": 10,
     "metadata": {},
     "output_type": "execute_result"
    }
   ],
   "source": [
    "sealed trait Regex\n",
    "// Use constructors: Atom, Concat, Or, And and Star\n",
    "//BEGIN SOLUTION\n",
    "case class Atom(s: String) extends Regex\n",
    "case class Concat(r1: Regex, r2: Regex) extends Regex\n",
    "case class Or(r1: Regex, r2: Regex) extends Regex\n",
    "case class And(r1: Regex, r2: Regex) extends Regex\n",
    "case class Star(r: Regex) extends Regex\n",
    "//END SOLUTION"
   ]
  },
  {
   "cell_type": "code",
   "execution_count": 11,
   "metadata": {
    "nbgrader": {
     "grade": true,
     "grade_id": "tests_3b",
     "locked": true,
     "points": 7,
     "schema_version": 3,
     "solution": false
    }
   },
   "outputs": [
    {
     "name": "stdout",
     "output_type": "stream",
     "text": [
      "\n",
      "*** Tests Passed (7 points) ***\n"
     ]
    },
    {
     "data": {
      "text/plain": [
       "\u001b[36mv1\u001b[39m: \u001b[32mAtom\u001b[39m = \u001b[33mAtom\u001b[39m(\u001b[32m\"Hello\"\u001b[39m)\n",
       "\u001b[36mv2\u001b[39m: \u001b[32mConcat\u001b[39m = \u001b[33mConcat\u001b[39m(\u001b[33mAtom\u001b[39m(\u001b[32m\"Hello\"\u001b[39m), \u001b[33mAtom\u001b[39m(\u001b[32m\"Hello\"\u001b[39m))\n",
       "\u001b[36mv3\u001b[39m: \u001b[32mOr\u001b[39m = \u001b[33mOr\u001b[39m(\u001b[33mAtom\u001b[39m(\u001b[32m\"Hello\"\u001b[39m), \u001b[33mConcat\u001b[39m(\u001b[33mAtom\u001b[39m(\u001b[32m\"Hello\"\u001b[39m), \u001b[33mAtom\u001b[39m(\u001b[32m\"Hello\"\u001b[39m)))\n",
       "\u001b[36mv4\u001b[39m: \u001b[32mStar\u001b[39m = \u001b[33mStar\u001b[39m(\u001b[33mOr\u001b[39m(\u001b[33mAtom\u001b[39m(\u001b[32m\"Hello\"\u001b[39m), \u001b[33mConcat\u001b[39m(\u001b[33mAtom\u001b[39m(\u001b[32m\"Hello\"\u001b[39m), \u001b[33mAtom\u001b[39m(\u001b[32m\"Hello\"\u001b[39m))))\n",
       "\u001b[36mv5\u001b[39m: \u001b[32mOr\u001b[39m = \u001b[33mOr\u001b[39m(\n",
       "  \u001b[33mAtom\u001b[39m(\u001b[32m\"Hello\"\u001b[39m),\n",
       "  \u001b[33mStar\u001b[39m(\u001b[33mOr\u001b[39m(\u001b[33mAtom\u001b[39m(\u001b[32m\"Hello\"\u001b[39m), \u001b[33mConcat\u001b[39m(\u001b[33mAtom\u001b[39m(\u001b[32m\"Hello\"\u001b[39m), \u001b[33mAtom\u001b[39m(\u001b[32m\"Hello\"\u001b[39m))))\n",
       ")"
      ]
     },
     "execution_count": 11,
     "metadata": {},
     "output_type": "execute_result"
    }
   ],
   "source": [
    "// BEGIN TESTS\n",
    "val v1 = Atom(\"Hello\")\n",
    "val v2 = Concat(v1, v1)\n",
    "val v3 = Or(v1, v2)\n",
    "val v4 = Star(v3)\n",
    "val v5 = Or(v1, v4)\n",
    "passed(7)\n",
    "// END TESTS"
   ]
  },
  {
   "cell_type": "markdown",
   "metadata": {
    "nbgrader": {
     "grade": false,
     "grade_id": "cell-f847cff392d180bd",
     "locked": true,
     "schema_version": 3,
     "solution": false
    }
   },
   "source": [
    "### C (6 points)\n",
    "Write down the representation of the regular expression in Scala. Your cell must define a term that should be called `finalAnswerC`.\n",
    "\n",
    "$$ (\\text{\"hello\"})^* ;  ((\\text{\"scala\"}; \\text{\"best\"})^*) $$\n"
   ]
  },
  {
   "cell_type": "code",
   "execution_count": 12,
   "metadata": {
    "nbgrader": {
     "grade": false,
     "grade_id": "answer_3c",
     "locked": false,
     "schema_version": 3,
     "solution": true
    }
   },
   "outputs": [
    {
     "data": {
      "text/plain": [
       "\u001b[36mfinalAnswerC\u001b[39m: \u001b[32mConcat\u001b[39m = \u001b[33mConcat\u001b[39m(\n",
       "  \u001b[33mStar\u001b[39m(\u001b[33mAtom\u001b[39m(\u001b[32m\"hello\"\u001b[39m)),\n",
       "  \u001b[33mStar\u001b[39m(\u001b[33mConcat\u001b[39m(\u001b[33mAtom\u001b[39m(\u001b[32m\"scala\"\u001b[39m), \u001b[33mAtom\u001b[39m(\u001b[32m\"best\"\u001b[39m)))\n",
       ")"
      ]
     },
     "execution_count": 12,
     "metadata": {},
     "output_type": "execute_result"
    }
   ],
   "source": [
    "val finalAnswerC = {\n",
    "    // BEGIN SOLUTION\n",
    "    val v1 = Atom(\"hello\")\n",
    "    val v2 = Concat(Atom(\"scala\"), Atom(\"best\"))\n",
    "    val v3 = Star(v1)\n",
    "    val v4 = Star(v2)\n",
    "    val v5 = Concat(v3, v4)\n",
    "    v5\n",
    "    // END SOLUTION\n",
    "}"
   ]
  },
  {
   "cell_type": "code",
   "execution_count": 13,
   "metadata": {
    "nbgrader": {
     "grade": true,
     "grade_id": "tests_3c",
     "locked": true,
     "points": 6,
     "schema_version": 3,
     "solution": false
    }
   },
   "outputs": [
    {
     "name": "stdout",
     "output_type": "stream",
     "text": [
      "\n",
      "*** Tests Passed (6 points) ***\n"
     ]
    },
    {
     "data": {
      "text/plain": [
       "defined \u001b[32mfunction\u001b[39m \u001b[36mmunge\u001b[39m"
      ]
     },
     "execution_count": 13,
     "metadata": {},
     "output_type": "execute_result"
    }
   ],
   "source": [
    "// BEGIN TESTS\n",
    "def munge(r: Regex): String = r match {\n",
    "    case Atom(st) => \"$A$\"+st\n",
    "    case Concat(r1, r2) => munge(r1)+\"$C$\"+munge(r2)\n",
    "    case Star(r) => \"$K$\"+munge(r)+\"$S$\"\n",
    "    case Or(r1, r2) => munge(r1)+\"_O_\"+munge(r2)\n",
    "    case And(r1,r2) => munge(r1)+\"/\\\\\"+ munge(r2)\n",
    "}\n",
    "\n",
    "assert(munge(finalAnswerC) == \"$K$$A$hello$S$$C$$K$$A$scala$C$$A$best$S$\", \"Test failed: you should seek help from the course staff to help you debug this problem, please\")\n",
    "passed(6)\n",
    "// END TESTS"
   ]
  }
 ],
 "metadata": {
  "celltoolbar": "Create Assignment",
  "kernelspec": {
   "display_name": "Scala",
   "language": "scala",
   "name": "scala"
  },
  "language_info": {
   "codemirror_mode": "text/x-scala",
   "file_extension": ".scala",
   "mimetype": "text/x-scala",
   "name": "scala",
   "nbconvert_exporter": "script",
   "version": "2.12.8"
  }
 },
 "nbformat": 4,
 "nbformat_minor": 2
}
