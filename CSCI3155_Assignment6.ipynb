{
 "cells": [
  {
   "cell_type": "markdown",
   "metadata": {
    "nbgrader": {
     "grade": false,
     "grade_id": "cell-b80729316cfd2e18",
     "locked": true,
     "schema_version": 3,
     "solution": false
    }
   },
   "source": [
    "# CSCI 3155: Assignment 6 (45 points)\n",
    "\n",
    "Topics Covered: Function calls in Lettuce"
   ]
  },
  {
   "cell_type": "markdown",
   "metadata": {},
   "source": [
    "__Name__: WRITE YOUR NAME HERE"
   ]
  },
  {
   "cell_type": "code",
   "execution_count": 1,
   "metadata": {
    "nbgrader": {
     "grade": false,
     "grade_id": "cell-03363e9b41cd8f58",
     "locked": true,
     "schema_version": 3,
     "solution": false
    }
   },
   "outputs": [
    {
     "data": {
      "text/plain": [
       "defined \u001b[32mfunction\u001b[39m \u001b[36mpassed\u001b[39m"
      ]
     },
     "execution_count": 1,
     "metadata": {},
     "output_type": "execute_result"
    }
   ],
   "source": [
    "// TEST HELPER\n",
    "def passed(points: Int) {\n",
    "    require(points >=0)\n",
    "    if (points == 1) print(s\"\\n*** Tests Passed (1 point) ***\\n\")\n",
    "    else print(s\"\\n*** Tests Passed ($points points) ***\\n\")\n",
    "}"
   ]
  },
  {
   "cell_type": "markdown",
   "metadata": {
    "nbgrader": {
     "grade": false,
     "grade_id": "cell-dd929d42e73e7730",
     "locked": true,
     "schema_version": 3,
     "solution": false
    }
   },
   "source": [
    "## Problem 1 (45 Points): Multiple Argument Functions\n",
    "\n",
    "In class, we have explored just single argument functions in lettuce. In this problem, we will \n",
    "explore, multiple argument functions.\n",
    "\n",
    "Consider: \n",
    "\n",
    "~~~\n",
    "let foo1 = function (x, y)\n",
    "            x - 2 * y\n",
    "          in \n",
    "       foo1(10, 15)\n",
    "~~~\n",
    "\n",
    "this code should return -20\n",
    "\n",
    "We will allow zero arguments as well.\n",
    "\n",
    "~~~\n",
    "let x = 5 in \n",
    "let bar1 = function()\n",
    "           x \n",
    "           in \n",
    "    bar1()\n",
    "~~~\n",
    "\n",
    "This code should return 5."
   ]
  },
  {
   "cell_type": "markdown",
   "metadata": {
    "nbgrader": {
     "grade": false,
     "grade_id": "cell-6b9f8af95e1ee726",
     "locked": true,
     "schema_version": 3,
     "solution": false
    }
   },
   "source": [
    "## 1 A (7 points): Extending the Abstract Syntax\n",
    "\n",
    "Consider the grammar specification we have seen thus far.\n",
    "\n",
    "$$\\begin{array}{rcll}\n",
    "\\mathbf{Program} & \\rightarrow & TopLevel(\\mathbf{Expr}) \\\\[5pt]\n",
    "\\mathbf{Expr} & \\rightarrow & Const(\\mathbf{Number}) \\\\\n",
    " & | & Ident(\\mathbf{Identifier}) \\\\\n",
    " & | & Plus(\\mathbf{Expr}, \\mathbf{Expr}) \\\\\n",
    " & | & FunDef( \\mathbf{Identifier}^*, \\mathbf{Expr}) & \\text{Note multiple parameters possible} \\\\ \n",
    " & | & FunCall(\\mathbf{Expr}, \\mathbf{Expr}^*) & \\text{function call - expr(expr1, ... , exprn)} \\\\\n",
    " & | & Let(\\mathbf{Identifier},\\mathbf{Expr}, \\mathbf{Expr})  \\\\\n",
    "\\end{array}$$\n",
    "\n",
    "Write the scala definition for `FunDef` and `FunCall`. Please use lists to implement the Kleene Star."
   ]
  },
  {
   "cell_type": "code",
   "execution_count": 2,
   "metadata": {
    "nbgrader": {
     "grade": false,
     "grade_id": "cell-925e2ee1e5248e66",
     "locked": false,
     "schema_version": 3,
     "solution": true
    }
   },
   "outputs": [
    {
     "data": {
      "text/plain": [
       "defined \u001b[32mtrait\u001b[39m \u001b[36mProgram\u001b[39m\n",
       "defined \u001b[32mtrait\u001b[39m \u001b[36mExpr\u001b[39m\n",
       "defined \u001b[32mclass\u001b[39m \u001b[36mConst\u001b[39m\n",
       "defined \u001b[32mclass\u001b[39m \u001b[36mIdent\u001b[39m\n",
       "defined \u001b[32mclass\u001b[39m \u001b[36mPlus\u001b[39m\n",
       "defined \u001b[32mclass\u001b[39m \u001b[36mLet\u001b[39m\n",
       "defined \u001b[32mclass\u001b[39m \u001b[36mFunDef\u001b[39m\n",
       "defined \u001b[32mclass\u001b[39m \u001b[36mFunCall\u001b[39m\n",
       "defined \u001b[32mclass\u001b[39m \u001b[36mTopLevel\u001b[39m"
      ]
     },
     "execution_count": 2,
     "metadata": {},
     "output_type": "execute_result"
    }
   ],
   "source": [
    "sealed trait Program\n",
    "sealed trait Expr\n",
    "case class Const(f: Double) extends Expr\n",
    "case class Ident(s: String) extends Expr\n",
    "case class Plus(e1: Expr, e2: Expr) extends Expr\n",
    "case class Let(x: String, e1: Expr, e2: Expr) extends Expr\n",
    "//BEGIN SOLUTION\n",
    "case class FunDef(idList: List[String], e: Expr) extends Expr\n",
    "case class FunCall(calledFun: Expr, argExpr: List[Expr]) extends Expr\n",
    "//END SOLUTION\n",
    "case class TopLevel(e: Expr) extends Program"
   ]
  },
  {
   "cell_type": "code",
   "execution_count": 3,
   "metadata": {
    "nbgrader": {
     "grade": true,
     "grade_id": "cell-0a323348d10eb569",
     "locked": true,
     "points": 3,
     "schema_version": 3,
     "solution": false
    }
   },
   "outputs": [
    {
     "name": "stdout",
     "output_type": "stream",
     "text": [
      "\n",
      "*** Tests Passed (3 points) ***\n"
     ]
    },
    {
     "data": {
      "text/plain": [
       "\u001b[36mx\u001b[39m: \u001b[32mIdent\u001b[39m = \u001b[33mIdent\u001b[39m(\u001b[32m\"x\"\u001b[39m)\n",
       "\u001b[36my\u001b[39m: \u001b[32mIdent\u001b[39m = \u001b[33mIdent\u001b[39m(\u001b[32m\"y\"\u001b[39m)\n",
       "\u001b[36mfoo\u001b[39m: \u001b[32mIdent\u001b[39m = \u001b[33mIdent\u001b[39m(\u001b[32m\"foo\"\u001b[39m)\n",
       "\u001b[36mfun1\u001b[39m: \u001b[32mFunDef\u001b[39m = \u001b[33mFunDef\u001b[39m(\u001b[33mList\u001b[39m(\u001b[32m\"x\"\u001b[39m, \u001b[32m\"y\"\u001b[39m), \u001b[33mPlus\u001b[39m(\u001b[33mIdent\u001b[39m(\u001b[32m\"x\"\u001b[39m), \u001b[33mIdent\u001b[39m(\u001b[32m\"y\"\u001b[39m)))\n",
       "\u001b[36ml1\u001b[39m: \u001b[32mLet\u001b[39m = \u001b[33mLet\u001b[39m(\n",
       "  \u001b[32m\"foo\"\u001b[39m,\n",
       "  \u001b[33mFunDef\u001b[39m(\u001b[33mList\u001b[39m(\u001b[32m\"x\"\u001b[39m, \u001b[32m\"y\"\u001b[39m), \u001b[33mPlus\u001b[39m(\u001b[33mIdent\u001b[39m(\u001b[32m\"x\"\u001b[39m), \u001b[33mIdent\u001b[39m(\u001b[32m\"y\"\u001b[39m))),\n",
       "  \u001b[33mFunCall\u001b[39m(\u001b[33mIdent\u001b[39m(\u001b[32m\"foo\"\u001b[39m), \u001b[33mList\u001b[39m(\u001b[33mConst\u001b[39m(\u001b[32m10.0\u001b[39m), \u001b[33mConst\u001b[39m(\u001b[32m20.0\u001b[39m)))\n",
       ")\n",
       "\u001b[36mp1\u001b[39m: \u001b[32mTopLevel\u001b[39m = \u001b[33mTopLevel\u001b[39m(\n",
       "  \u001b[33mLet\u001b[39m(\n",
       "    \u001b[32m\"foo\"\u001b[39m,\n",
       "    \u001b[33mFunDef\u001b[39m(\u001b[33mList\u001b[39m(\u001b[32m\"x\"\u001b[39m, \u001b[32m\"y\"\u001b[39m), \u001b[33mPlus\u001b[39m(\u001b[33mIdent\u001b[39m(\u001b[32m\"x\"\u001b[39m), \u001b[33mIdent\u001b[39m(\u001b[32m\"y\"\u001b[39m))),\n",
       "    \u001b[33mFunCall\u001b[39m(\u001b[33mIdent\u001b[39m(\u001b[32m\"foo\"\u001b[39m), \u001b[33mList\u001b[39m(\u001b[33mConst\u001b[39m(\u001b[32m10.0\u001b[39m), \u001b[33mConst\u001b[39m(\u001b[32m20.0\u001b[39m)))\n",
       "  )\n",
       ")"
      ]
     },
     "execution_count": 3,
     "metadata": {},
     "output_type": "execute_result"
    }
   ],
   "source": [
    "//BEGIN TEST\n",
    "// TEST Two arguments\n",
    "val x = Ident(\"x\")\n",
    "val y = Ident(\"y\")\n",
    "val foo = Ident(\"foo\")\n",
    "val fun1 = FunDef(List(\"x\", \"y\"), Plus(x, y))\n",
    "val l1 = Let(\"foo\", fun1, FunCall(foo, List(Const(10.0), Const(20.0))))\n",
    "val p1 = TopLevel(l1)\n",
    "passed(3)\n",
    "//END TEST"
   ]
  },
  {
   "cell_type": "code",
   "execution_count": 4,
   "metadata": {
    "nbgrader": {
     "grade": true,
     "grade_id": "cell-ac281039a6b38cb1",
     "locked": true,
     "points": 4,
     "schema_version": 3,
     "solution": false
    }
   },
   "outputs": [
    {
     "name": "stdout",
     "output_type": "stream",
     "text": [
      "\n",
      "*** Tests Passed (4 points) ***\n"
     ]
    },
    {
     "data": {
      "text/plain": [
       "\u001b[36mx\u001b[39m: \u001b[32mIdent\u001b[39m = \u001b[33mIdent\u001b[39m(\u001b[32m\"x\"\u001b[39m)\n",
       "\u001b[36mfoo\u001b[39m: \u001b[32mIdent\u001b[39m = \u001b[33mIdent\u001b[39m(\u001b[32m\"foo\"\u001b[39m)\n",
       "\u001b[36mfcall\u001b[39m: \u001b[32mFunCall\u001b[39m = \u001b[33mFunCall\u001b[39m(\u001b[33mIdent\u001b[39m(\u001b[32m\"foo\"\u001b[39m), \u001b[33mList\u001b[39m())\n",
       "\u001b[36mfdef\u001b[39m: \u001b[32mFunDef\u001b[39m = \u001b[33mFunDef\u001b[39m(\u001b[33mList\u001b[39m(), \u001b[33mIdent\u001b[39m(\u001b[32m\"x\"\u001b[39m))\n",
       "\u001b[36ml2\u001b[39m: \u001b[32mLet\u001b[39m = \u001b[33mLet\u001b[39m(\u001b[32m\"foo\"\u001b[39m, \u001b[33mFunDef\u001b[39m(\u001b[33mList\u001b[39m(), \u001b[33mIdent\u001b[39m(\u001b[32m\"x\"\u001b[39m)), \u001b[33mFunCall\u001b[39m(\u001b[33mIdent\u001b[39m(\u001b[32m\"foo\"\u001b[39m), \u001b[33mList\u001b[39m()))\n",
       "\u001b[36ml3\u001b[39m: \u001b[32mLet\u001b[39m = \u001b[33mLet\u001b[39m(\n",
       "  \u001b[32m\"x\"\u001b[39m,\n",
       "  \u001b[33mConst\u001b[39m(\u001b[32m10.0\u001b[39m),\n",
       "  \u001b[33mLet\u001b[39m(\u001b[32m\"foo\"\u001b[39m, \u001b[33mFunDef\u001b[39m(\u001b[33mList\u001b[39m(), \u001b[33mIdent\u001b[39m(\u001b[32m\"x\"\u001b[39m)), \u001b[33mFunCall\u001b[39m(\u001b[33mIdent\u001b[39m(\u001b[32m\"foo\"\u001b[39m), \u001b[33mList\u001b[39m()))\n",
       ")\n",
       "\u001b[36mp2\u001b[39m: \u001b[32mTopLevel\u001b[39m = \u001b[33mTopLevel\u001b[39m(\n",
       "  \u001b[33mLet\u001b[39m(\n",
       "    \u001b[32m\"x\"\u001b[39m,\n",
       "    \u001b[33mConst\u001b[39m(\u001b[32m10.0\u001b[39m),\n",
       "    \u001b[33mLet\u001b[39m(\u001b[32m\"foo\"\u001b[39m, \u001b[33mFunDef\u001b[39m(\u001b[33mList\u001b[39m(), \u001b[33mIdent\u001b[39m(\u001b[32m\"x\"\u001b[39m)), \u001b[33mFunCall\u001b[39m(\u001b[33mIdent\u001b[39m(\u001b[32m\"foo\"\u001b[39m), \u001b[33mList\u001b[39m()))\n",
       "  )\n",
       ")"
      ]
     },
     "execution_count": 4,
     "metadata": {},
     "output_type": "execute_result"
    }
   ],
   "source": [
    "//BEGIN TEST\n",
    "//Test zero arguments\n",
    "val x = Ident(\"x\")\n",
    "val foo = Ident(\"foo\")\n",
    "val fcall = FunCall(foo, List())\n",
    "val fdef = FunDef(List(), x)\n",
    "val l2 = Let(\"foo\", fdef, fcall)\n",
    "val l3 = Let(\"x\", Const(10), l2)\n",
    "val p2 = TopLevel(l3)\n",
    "passed(4)\n",
    "//END TEST"
   ]
  },
  {
   "cell_type": "markdown",
   "metadata": {
    "nbgrader": {
     "grade": false,
     "grade_id": "cell-fc759814f6e6f19f",
     "locked": true,
     "schema_version": 3,
     "solution": false,
     "task": false
    }
   },
   "source": [
    "## 1B (8 points): Define Closure for Function Calls with Zero or More Args.\n",
    "\n",
    "We will now redefine closures for functions with zero or more args. When our function had one argument, our closures were defined as `Closure(id, expr, env)`. We would now like to define closures as\n",
    "`Closure( [id1, ..., idn], expr, env)` where \n",
    "  - `id1..., idn` are the list of arguments for the function to be called. \n",
    "  - `expr` is the body of the function and \n",
    "  - `env` is the stored environment for static scoping.\n",
    " \n",
    " $$\\begin{array}{rcl}\n",
    " \\mathbf{Value} & \\Rightarrow & num(\\mathbf{Double}) \\\\\n",
    " & \\Rightarrow & closure(\\mathbf{String}^*, \\mathbf{Expr}, \\mathbf{Environment}) \\\\\n",
    " & \\Rightarrow & error \\\\\n",
    " \\end{array}$$\n",
    " \n",
    " For __Environment__ please use a scala immutable map from __String__ to __Value__"
   ]
  },
  {
   "cell_type": "code",
   "execution_count": 5,
   "metadata": {
    "nbgrader": {
     "grade": false,
     "grade_id": "cell-60259c7b459335ef",
     "locked": false,
     "schema_version": 3,
     "solution": true,
     "task": false
    }
   },
   "outputs": [
    {
     "data": {
      "text/plain": [
       "defined \u001b[32mtrait\u001b[39m \u001b[36mValue\u001b[39m\n",
       "defined \u001b[32mclass\u001b[39m \u001b[36mNum\u001b[39m\n",
       "defined \u001b[32mobject\u001b[39m \u001b[36mError\u001b[39m\n",
       "defined \u001b[32mclass\u001b[39m \u001b[36mClosure\u001b[39m"
      ]
     },
     "execution_count": 5,
     "metadata": {},
     "output_type": "execute_result"
    }
   ],
   "source": [
    "sealed trait Value\n",
    "case class Num(d: Double) extends Value\n",
    "case object Error extends Value\n",
    "//BEGIN SOLUTION\n",
    "case class Closure(s: List[String], e: Expr, env: Map[String, Value]) extends Value\n",
    "//END SOLUTION"
   ]
  },
  {
   "cell_type": "code",
   "execution_count": 6,
   "metadata": {
    "nbgrader": {
     "grade": true,
     "grade_id": "cell-599609ca6ef74bb3",
     "locked": true,
     "points": 8,
     "schema_version": 3,
     "solution": false,
     "task": false
    }
   },
   "outputs": [
    {
     "name": "stdout",
     "output_type": "stream",
     "text": [
      "\n",
      "*** Tests Passed (8 points) ***\n"
     ]
    },
    {
     "data": {
      "text/plain": [
       "\u001b[36mv1\u001b[39m: \u001b[32mClosure\u001b[39m = \u001b[33mClosure\u001b[39m(\u001b[33mList\u001b[39m(\u001b[32m\"x\"\u001b[39m, \u001b[32m\"y\"\u001b[39m, \u001b[32m\"z\"\u001b[39m), \u001b[33mPlus\u001b[39m(\u001b[33mIdent\u001b[39m(\u001b[32m\"x\"\u001b[39m), \u001b[33mIdent\u001b[39m(\u001b[32m\"y\"\u001b[39m)), \u001b[33mMap\u001b[39m())\n",
       "\u001b[36mv2\u001b[39m: \u001b[32mClosure\u001b[39m = \u001b[33mClosure\u001b[39m(\u001b[33mList\u001b[39m(), \u001b[33mConst\u001b[39m(\u001b[32m15.0\u001b[39m), \u001b[33mMap\u001b[39m())\n",
       "\u001b[36menv1\u001b[39m: \u001b[32mMap\u001b[39m[\u001b[32mString\u001b[39m, \u001b[32mValue\u001b[39m] = \u001b[33mMap\u001b[39m(\n",
       "  \u001b[32m\"x\"\u001b[39m -> \u001b[33mNum\u001b[39m(\u001b[32m25.0\u001b[39m),\n",
       "  \u001b[32m\"y\"\u001b[39m -> \u001b[33mClosure\u001b[39m(\u001b[33mList\u001b[39m(), \u001b[33mConst\u001b[39m(\u001b[32m15.0\u001b[39m), \u001b[33mMap\u001b[39m())\n",
       ")\n",
       "\u001b[36mv3\u001b[39m: \u001b[32mClosure\u001b[39m = \u001b[33mClosure\u001b[39m(\n",
       "  \u001b[33mList\u001b[39m(\u001b[32m\"x\"\u001b[39m),\n",
       "  \u001b[33mPlus\u001b[39m(\u001b[33mIdent\u001b[39m(\u001b[32m\"x\"\u001b[39m), \u001b[33mConst\u001b[39m(\u001b[32m25.0\u001b[39m)),\n",
       "  \u001b[33mMap\u001b[39m(\u001b[32m\"x\"\u001b[39m -> \u001b[33mNum\u001b[39m(\u001b[32m25.0\u001b[39m), \u001b[32m\"y\"\u001b[39m -> \u001b[33mClosure\u001b[39m(\u001b[33mList\u001b[39m(), \u001b[33mConst\u001b[39m(\u001b[32m15.0\u001b[39m), \u001b[33mMap\u001b[39m()))\n",
       ")"
      ]
     },
     "execution_count": 6,
     "metadata": {},
     "output_type": "execute_result"
    }
   ],
   "source": [
    "//BEGIN TEST\n",
    "val v1 = Closure(List(\"x\", \"y\", \"z\"), Plus(x, y), Map.empty)\n",
    "val v2 = Closure(Nil, Const(15), Map.empty)\n",
    "val env1: Map[String, Value] = Map(\"x\" -> Num(25.0), \"y\"-> v2)\n",
    "val v3 = Closure(List(\"x\"), Plus(x, Const(25)), env1 )\n",
    "passed(8)\n",
    "//END TEST"
   ]
  },
  {
   "cell_type": "markdown",
   "metadata": {
    "nbgrader": {
     "grade": false,
     "grade_id": "cell-ea94ae8aa9613fa0",
     "locked": true,
     "schema_version": 3,
     "solution": false
    }
   },
   "source": [
    "## 1 C (30 Points) Build an Interpreter\n",
    "\n",
    "Build an interpreter using the following semantic rules. Ensure that your interpreter correctly deals with the cases that give rise to error by throwing an exception.\n",
    "\n",
    "$$\\newcommand\\semRule[3]{\\begin{array}{c} #1 \\\\ \\hline #2 \\\\\\end{array} (\\text{#3})} $$\n",
    "$$\\newcommand\\eval{\\mathbf{eval}}$$\n",
    "$$\\semRule{}{\\eval(\\texttt{FunDef([id1,..., idk], e)},\\sigma) = \\text{Closure}(\\texttt{[id1,..., idk]}, \\texttt{e}, \\sigma)}{fundef}$$\n",
    "\n",
    "$$\\semRule {\\eval(\\texttt{e}, \\sigma) = \\text{Closure}(\\texttt{[id1,..., idn]}, \\texttt{fBody}, \\color{red}{\\sigma_{cl}}),\\  \\color{red}{n = k},\\ (\\forall\\ i \\in \\{ 1, \\ldots, k\\})\\ \\eval(\\texttt{ei}, \\sigma) = v_i,  v_i \\not= \\mathbf{error}}\n",
    "           {\\eval(\\texttt{FunCall(e, [e1, ..., ek])}, \\sigma) = \\eval(\\texttt{fBody}, \\color{red}{\\sigma_{cl} \\circ [id1 \\rightarrow v_1, \\ldots, idk \\rightarrow v_k]})}{funcall-ok}$$\n",
    "           \n",
    "Let us interpret this rule. Read the points below carefully.\n",
    "   - __Purpose__ : Evaluate an expression of the form `FunCall(e, [e1,...,ek])` where `e` is the expr for the called function, and `e1, ..., ek` are exprs for the arguments of this call. There are $k$ arguments.\n",
    "     - (A) Evaluating `e` must yield a closure of the form $\\text{Closure}(\\texttt{[id1,..., idn]}, \\texttt{fBody}, \\color{red}{\\sigma_{cl}})$.\n",
    "     - (B) The number of arguments for the closure $n$ must equal that of the function call $k$.\n",
    "     - (C) Evaluating each of the $k$ arguments `ei` for $i = 1, \\ldots, k$ must yield $v_i$ where $v_i$ is not error.\n",
    "     - (D) Then the result of evaluating the call is the same as that of evaluating `fBody` under the environment $\\color{red}{\\sigma_{cl}}$ extended by mapping the formal parameters `id1.., idk` to $v_1, \\ldots, v_k$, respectively.\n",
    "\n",
    "\n",
    "We can write some error rules.\n",
    "\n",
    "$$\\semRule {\\eval(\\texttt{e}, \\sigma) \\not\\in \\text{Closure}}\n",
    "           {\\eval(\\texttt{FunCall(e, [e1, ..., ek])}, \\sigma) = \\mathbf{error}}{funcall-not-a-function}$$\n",
    "\n",
    "\n",
    "$$\\semRule {\\eval(\\texttt{e}, \\sigma) = \\text{Closure}(\\texttt{[id1,..., idn]}, \\texttt{fBody}, \\color{red}{\\sigma_{cl}}),\\  \\color{red}{n \\not= k}}\n",
    "           {\\eval(\\texttt{FunCall(e, [e1, ..., ek])}, \\sigma) = \\mathbf{error}}{funcall-wrong-num-args}$$\n",
    "           \n",
    "  \n",
    "$$\\semRule {\\eval(\\texttt{e}, \\sigma) = \\text{Closure}(\\texttt{[id1,..., idn]}, \\texttt{fBody}, \\color{red}{\\sigma_{cl}}),\\  \\color{red}{n = k},\\ (\\exists\\ i \\in \\{1, \\ldots, k\\})\\ \\eval(\\texttt{ei}, \\sigma) = \\mathbf{error}}\n",
    "           {\\eval(\\texttt{FunCall(e, [e1, ..., ek])}, \\sigma) = \\mathbf{error}}{funcall-arg-error}$$\n",
    "           \n",
    "           \n",
    "**Important:** The use of `var` and `while/for` loop is not allowed. You can use the functions map, foldLeft and zip over lists.\n",
    "\n",
    "**Hint** The following function will be very useful for you. Try it out and see what it does!\n",
    "\n",
    "~~~\n",
    "val l1 = List(10, 15, 20, 25, 30)\n",
    "val l2 = List(\"a\", \"b\", \"c\", \"d\", \"e\")\n",
    "val l3 = l1.zip(l2)\n",
    "println(l3)\n",
    "~~~\n",
    " "
   ]
  },
  {
   "cell_type": "code",
   "execution_count": 7,
   "metadata": {
    "nbgrader": {
     "grade": false,
     "grade_id": "cell-cc0ebc1ead5d46dd",
     "locked": false,
     "schema_version": 3,
     "solution": true,
     "task": false
    }
   },
   "outputs": [
    {
     "data": {
      "text/plain": [
       "defined \u001b[32mclass\u001b[39m \u001b[36mErrorException\u001b[39m\n",
       "defined \u001b[32mfunction\u001b[39m \u001b[36mvalueToNumber\u001b[39m\n",
       "defined \u001b[32mfunction\u001b[39m \u001b[36meval\u001b[39m\n",
       "defined \u001b[32mfunction\u001b[39m \u001b[36mevalProgram\u001b[39m"
      ]
     },
     "execution_count": 7,
     "metadata": {},
     "output_type": "execute_result"
    }
   ],
   "source": [
    "class ErrorException(s:String) extends Exception(s){}  \n",
    "\n",
    "\n",
    "def valueToNumber(v: Value): Double = v match {\n",
    "    case Num(d) => d\n",
    "    case _ => throw new ErrorException(s\"Could not convert value $v to a number\")\n",
    "}\n",
    "\n",
    "def eval(e: Expr, env: Map[String, Value]): Value = {\n",
    "    def addValues(v1: Value, v2: Value): Value = \n",
    "        Num ( valueToNumber(v1) + valueToNumber(v2) )\n",
    "    \n",
    "    e match {\n",
    "        case Const(d) => Num(d)\n",
    "        case Ident(x) => {\n",
    "            //BEGIN SOLUTION\n",
    "            if (env contains x) {\n",
    "                env(x)\n",
    "            } else {\n",
    "                throw new ErrorException(s\"Could not find identifier $x\")\n",
    "            }\n",
    "            //END SOLUTION\n",
    "        }\n",
    "        case Plus(e1,e2) => {\n",
    "            val v1 = eval(e1, env)\n",
    "            val v2 = eval(e2, env)\n",
    "            addValues(v1,v2)\n",
    "        }\n",
    "        case Let(id, e1, e2) => {\n",
    "            //BEGIN SOLUTION\n",
    "            val v1 = eval(e1, env)\n",
    "            val env2 = env + (id -> v1)\n",
    "            eval(e2, env2)\n",
    "            //END SOLUTION\n",
    "        }\n",
    "        \n",
    "        case FunDef(idList, e) => {\n",
    "            Closure(idList, e, env)\n",
    "        }\n",
    "        \n",
    "        case FunCall(e, eList) => {\n",
    "            //BEGIN SOLUTION\n",
    "            val v = eval(e, env)\n",
    "            v match {\n",
    "                case Closure(argList, fBody, closureEnv) => {\n",
    "                    if (argList.length == eList.length){\n",
    "                        val valList = eList.map {eval(_, env)}\n",
    "                        val zipList = argList.zip(valList)\n",
    "                        val newMap = zipList.foldLeft[Map[String, Value]] (env) { case (newEnv, newBind) => newEnv + newBind }\n",
    "                        eval(fBody, newMap)\n",
    "                    } else {\n",
    "                        throw new ErrorException(s\"Argument length mismatch\")\n",
    "                    }\n",
    "                }\n",
    "                case _ => throw new ErrorException(s\"Tried to use a numerical value as a function\")\n",
    "            }\n",
    "            //END SOLUTION\n",
    "        }\n",
    "    }\n",
    "}\n",
    "\n",
    "\n",
    "def evalProgram(p: Program): Value = p match {\n",
    "    case TopLevel(e) => try\n",
    "            eval(e, Map.empty)\n",
    "    catch {\n",
    "        case e: ErrorException => {\n",
    "            println(e)\n",
    "            Error\n",
    "        }\n",
    "        case e: IllegalArgumentException => {\n",
    "            println(e)\n",
    "            Error\n",
    "        }\n",
    "        case e => {\n",
    "            println(\"Unknown Exception \" + e.toString)\n",
    "            Error\n",
    "        }\n",
    "            \n",
    "    }\n",
    "}\n"
   ]
  },
  {
   "cell_type": "code",
   "execution_count": 8,
   "metadata": {
    "nbgrader": {
     "grade": true,
     "grade_id": "cell-23be325bb4b874b2",
     "locked": true,
     "points": 5,
     "schema_version": 3,
     "solution": false,
     "task": false
    }
   },
   "outputs": [
    {
     "name": "stdout",
     "output_type": "stream",
     "text": [
      "Your program evaluated to Num(30.0)\n",
      "\n",
      "*** Tests Passed (5 points) ***\n"
     ]
    },
    {
     "data": {
      "text/plain": [
       "\u001b[36mx\u001b[39m: \u001b[32mIdent\u001b[39m = \u001b[33mIdent\u001b[39m(\u001b[32m\"x\"\u001b[39m)\n",
       "\u001b[36my\u001b[39m: \u001b[32mIdent\u001b[39m = \u001b[33mIdent\u001b[39m(\u001b[32m\"y\"\u001b[39m)\n",
       "\u001b[36mfoo\u001b[39m: \u001b[32mIdent\u001b[39m = \u001b[33mIdent\u001b[39m(\u001b[32m\"foo\"\u001b[39m)\n",
       "\u001b[36mfun1\u001b[39m: \u001b[32mFunDef\u001b[39m = \u001b[33mFunDef\u001b[39m(\u001b[33mList\u001b[39m(\u001b[32m\"x\"\u001b[39m, \u001b[32m\"y\"\u001b[39m), \u001b[33mPlus\u001b[39m(\u001b[33mIdent\u001b[39m(\u001b[32m\"x\"\u001b[39m), \u001b[33mIdent\u001b[39m(\u001b[32m\"y\"\u001b[39m)))\n",
       "\u001b[36ml1\u001b[39m: \u001b[32mLet\u001b[39m = \u001b[33mLet\u001b[39m(\n",
       "  \u001b[32m\"foo\"\u001b[39m,\n",
       "  \u001b[33mFunDef\u001b[39m(\u001b[33mList\u001b[39m(\u001b[32m\"x\"\u001b[39m, \u001b[32m\"y\"\u001b[39m), \u001b[33mPlus\u001b[39m(\u001b[33mIdent\u001b[39m(\u001b[32m\"x\"\u001b[39m), \u001b[33mIdent\u001b[39m(\u001b[32m\"y\"\u001b[39m))),\n",
       "  \u001b[33mFunCall\u001b[39m(\u001b[33mIdent\u001b[39m(\u001b[32m\"foo\"\u001b[39m), \u001b[33mList\u001b[39m(\u001b[33mConst\u001b[39m(\u001b[32m10.0\u001b[39m), \u001b[33mConst\u001b[39m(\u001b[32m20.0\u001b[39m)))\n",
       ")\n",
       "\u001b[36mp1\u001b[39m: \u001b[32mTopLevel\u001b[39m = \u001b[33mTopLevel\u001b[39m(\n",
       "  \u001b[33mLet\u001b[39m(\n",
       "    \u001b[32m\"foo\"\u001b[39m,\n",
       "    \u001b[33mFunDef\u001b[39m(\u001b[33mList\u001b[39m(\u001b[32m\"x\"\u001b[39m, \u001b[32m\"y\"\u001b[39m), \u001b[33mPlus\u001b[39m(\u001b[33mIdent\u001b[39m(\u001b[32m\"x\"\u001b[39m), \u001b[33mIdent\u001b[39m(\u001b[32m\"y\"\u001b[39m))),\n",
       "    \u001b[33mFunCall\u001b[39m(\u001b[33mIdent\u001b[39m(\u001b[32m\"foo\"\u001b[39m), \u001b[33mList\u001b[39m(\u001b[33mConst\u001b[39m(\u001b[32m10.0\u001b[39m), \u001b[33mConst\u001b[39m(\u001b[32m20.0\u001b[39m)))\n",
       "  )\n",
       ")\n",
       "\u001b[36mv1\u001b[39m: \u001b[32mValue\u001b[39m = \u001b[33mNum\u001b[39m(\u001b[32m30.0\u001b[39m)"
      ]
     },
     "execution_count": 8,
     "metadata": {},
     "output_type": "execute_result"
    }
   ],
   "source": [
    "//BEGIN TEST\n",
    "// TEST Two arguments\n",
    "val x = Ident(\"x\")\n",
    "val y = Ident(\"y\")\n",
    "val foo = Ident(\"foo\")\n",
    "// function(x, y)  x + y\n",
    "val fun1 = FunDef(List(\"x\", \"y\"), Plus(x, y))\n",
    "//let foo = function(x,y) x+ y in foo(10, 20)\n",
    "val l1 = Let(\"foo\", fun1, FunCall(foo, List(Const(10.0), Const(20.0))))\n",
    "//Program\n",
    "val p1 = TopLevel(l1)\n",
    "val v1 = evalProgram(p1)\n",
    "println(s\"Your program evaluated to $v1\")\n",
    "assert(v1 == Num(30.0), \"Test 1 Failed\")\n",
    "passed(5)\n",
    "//END TEST"
   ]
  },
  {
   "cell_type": "code",
   "execution_count": 9,
   "metadata": {
    "nbgrader": {
     "grade": true,
     "grade_id": "cell-d59f51be3ed29a31",
     "locked": true,
     "points": 5,
     "schema_version": 3,
     "solution": false,
     "task": false
    }
   },
   "outputs": [
    {
     "name": "stdout",
     "output_type": "stream",
     "text": [
      "Your program evaluated to Num(90.0)\n",
      "\n",
      "*** Tests Passed (5 points) ***\n"
     ]
    },
    {
     "data": {
      "text/plain": [
       "\u001b[36mx\u001b[39m: \u001b[32mIdent\u001b[39m = \u001b[33mIdent\u001b[39m(\u001b[32m\"x\"\u001b[39m)\n",
       "\u001b[36my\u001b[39m: \u001b[32mIdent\u001b[39m = \u001b[33mIdent\u001b[39m(\u001b[32m\"y\"\u001b[39m)\n",
       "\u001b[36mz\u001b[39m: \u001b[32mIdent\u001b[39m = \u001b[33mIdent\u001b[39m(\u001b[32m\"z\"\u001b[39m)\n",
       "\u001b[36mfoo\u001b[39m: \u001b[32mIdent\u001b[39m = \u001b[33mIdent\u001b[39m(\u001b[32m\"foo2\"\u001b[39m)\n",
       "\u001b[36mfun2\u001b[39m: \u001b[32mFunDef\u001b[39m = \u001b[33mFunDef\u001b[39m(\n",
       "  \u001b[33mList\u001b[39m(\u001b[32m\"x\"\u001b[39m, \u001b[32m\"y\"\u001b[39m, \u001b[32m\"z\"\u001b[39m),\n",
       "  \u001b[33mPlus\u001b[39m(\u001b[33mPlus\u001b[39m(\u001b[33mPlus\u001b[39m(\u001b[33mIdent\u001b[39m(\u001b[32m\"x\"\u001b[39m), \u001b[33mIdent\u001b[39m(\u001b[32m\"y\"\u001b[39m)), \u001b[33mIdent\u001b[39m(\u001b[32m\"z\"\u001b[39m)), \u001b[33mIdent\u001b[39m(\u001b[32m\"z\"\u001b[39m))\n",
       ")\n",
       "\u001b[36ml2\u001b[39m: \u001b[32mLet\u001b[39m = \u001b[33mLet\u001b[39m(\n",
       "  \u001b[32m\"foo2\"\u001b[39m,\n",
       "  \u001b[33mFunDef\u001b[39m(\n",
       "    \u001b[33mList\u001b[39m(\u001b[32m\"x\"\u001b[39m, \u001b[32m\"y\"\u001b[39m, \u001b[32m\"z\"\u001b[39m),\n",
       "    \u001b[33mPlus\u001b[39m(\u001b[33mPlus\u001b[39m(\u001b[33mPlus\u001b[39m(\u001b[33mIdent\u001b[39m(\u001b[32m\"x\"\u001b[39m), \u001b[33mIdent\u001b[39m(\u001b[32m\"y\"\u001b[39m)), \u001b[33mIdent\u001b[39m(\u001b[32m\"z\"\u001b[39m)), \u001b[33mIdent\u001b[39m(\u001b[32m\"z\"\u001b[39m))\n",
       "  ),\n",
       "  \u001b[33mFunCall\u001b[39m(\u001b[33mIdent\u001b[39m(\u001b[32m\"foo2\"\u001b[39m), \u001b[33mList\u001b[39m(\u001b[33mConst\u001b[39m(\u001b[32m10.0\u001b[39m), \u001b[33mConst\u001b[39m(\u001b[32m20.0\u001b[39m), \u001b[33mConst\u001b[39m(\u001b[32m30.0\u001b[39m)))\n",
       ")\n",
       "\u001b[36mp2\u001b[39m: \u001b[32mTopLevel\u001b[39m = \u001b[33mTopLevel\u001b[39m(\n",
       "  \u001b[33mLet\u001b[39m(\n",
       "    \u001b[32m\"foo2\"\u001b[39m,\n",
       "    \u001b[33mFunDef\u001b[39m(\n",
       "      \u001b[33mList\u001b[39m(\u001b[32m\"x\"\u001b[39m, \u001b[32m\"y\"\u001b[39m, \u001b[32m\"z\"\u001b[39m),\n",
       "      \u001b[33mPlus\u001b[39m(\u001b[33mPlus\u001b[39m(\u001b[33mPlus\u001b[39m(\u001b[33mIdent\u001b[39m(\u001b[32m\"x\"\u001b[39m), \u001b[33mIdent\u001b[39m(\u001b[32m\"y\"\u001b[39m)), \u001b[33mIdent\u001b[39m(\u001b[32m\"z\"\u001b[39m)), \u001b[33mIdent\u001b[39m(\u001b[32m\"z\"\u001b[39m))\n",
       "    ),\n",
       "    \u001b[33mFunCall\u001b[39m(\u001b[33mIdent\u001b[39m(\u001b[32m\"foo2\"\u001b[39m), \u001b[33mList\u001b[39m(\u001b[33mConst\u001b[39m(\u001b[32m10.0\u001b[39m), \u001b[33mConst\u001b[39m(\u001b[32m20.0\u001b[39m), \u001b[33mConst\u001b[39m(\u001b[32m30.0\u001b[39m)))\n",
       "  )\n",
       ")\n",
       "\u001b[36mv2\u001b[39m: \u001b[32mValue\u001b[39m = \u001b[33mNum\u001b[39m(\u001b[32m90.0\u001b[39m)"
      ]
     },
     "execution_count": 9,
     "metadata": {},
     "output_type": "execute_result"
    }
   ],
   "source": [
    "//BEGIN TEST\n",
    "// TEST three arguments\n",
    "val x = Ident(\"x\")\n",
    "val y = Ident(\"y\")\n",
    "val z = Ident(\"z\")\n",
    "val foo = Ident(\"foo2\")\n",
    "// function(x, y,z)  x + y+z+z\n",
    "val fun2 = FunDef(List(\"x\", \"y\", \"z\"), Plus(Plus(Plus(x, y), z), z))\n",
    "//let foo = function(x,y) x+ y in foo(10, 20, 30)\n",
    "val l2 = Let(\"foo2\", fun2, FunCall(foo, List(Const(10.0), Const(20.0), Const(30.0))))\n",
    "//Program\n",
    "val p2 = TopLevel(l2)\n",
    "val v2 = evalProgram(p2)\n",
    "println(s\"Your program evaluated to $v2\")\n",
    "assert(v2 == Num(90.0), \"Test 2 Failed\")\n",
    "passed(5)\n",
    "//END TEST"
   ]
  },
  {
   "cell_type": "code",
   "execution_count": 10,
   "metadata": {
    "nbgrader": {
     "grade": true,
     "grade_id": "cell-8b5aa13d74ba3278",
     "locked": true,
     "points": 5,
     "schema_version": 3,
     "solution": false,
     "task": false
    }
   },
   "outputs": [
    {
     "name": "stdout",
     "output_type": "stream",
     "text": [
      "Your program evaluated to Num(10.0)\n",
      "\n",
      "*** Tests Passed (5 points) ***\n"
     ]
    },
    {
     "data": {
      "text/plain": [
       "\u001b[36mx\u001b[39m: \u001b[32mIdent\u001b[39m = \u001b[33mIdent\u001b[39m(\u001b[32m\"x\"\u001b[39m)\n",
       "\u001b[36mfoo\u001b[39m: \u001b[32mIdent\u001b[39m = \u001b[33mIdent\u001b[39m(\u001b[32m\"foo\"\u001b[39m)\n",
       "\u001b[36mfcall\u001b[39m: \u001b[32mFunCall\u001b[39m = \u001b[33mFunCall\u001b[39m(\u001b[33mIdent\u001b[39m(\u001b[32m\"foo\"\u001b[39m), \u001b[33mList\u001b[39m())\n",
       "\u001b[36mfdef\u001b[39m: \u001b[32mFunDef\u001b[39m = \u001b[33mFunDef\u001b[39m(\u001b[33mList\u001b[39m(), \u001b[33mIdent\u001b[39m(\u001b[32m\"x\"\u001b[39m))\n",
       "\u001b[36ml2\u001b[39m: \u001b[32mLet\u001b[39m = \u001b[33mLet\u001b[39m(\u001b[32m\"foo\"\u001b[39m, \u001b[33mFunDef\u001b[39m(\u001b[33mList\u001b[39m(), \u001b[33mIdent\u001b[39m(\u001b[32m\"x\"\u001b[39m)), \u001b[33mFunCall\u001b[39m(\u001b[33mIdent\u001b[39m(\u001b[32m\"foo\"\u001b[39m), \u001b[33mList\u001b[39m()))\n",
       "\u001b[36ml3\u001b[39m: \u001b[32mLet\u001b[39m = \u001b[33mLet\u001b[39m(\n",
       "  \u001b[32m\"x\"\u001b[39m,\n",
       "  \u001b[33mConst\u001b[39m(\u001b[32m10.0\u001b[39m),\n",
       "  \u001b[33mLet\u001b[39m(\u001b[32m\"foo\"\u001b[39m, \u001b[33mFunDef\u001b[39m(\u001b[33mList\u001b[39m(), \u001b[33mIdent\u001b[39m(\u001b[32m\"x\"\u001b[39m)), \u001b[33mFunCall\u001b[39m(\u001b[33mIdent\u001b[39m(\u001b[32m\"foo\"\u001b[39m), \u001b[33mList\u001b[39m()))\n",
       ")\n",
       "\u001b[36mp2\u001b[39m: \u001b[32mTopLevel\u001b[39m = \u001b[33mTopLevel\u001b[39m(\n",
       "  \u001b[33mLet\u001b[39m(\n",
       "    \u001b[32m\"x\"\u001b[39m,\n",
       "    \u001b[33mConst\u001b[39m(\u001b[32m10.0\u001b[39m),\n",
       "    \u001b[33mLet\u001b[39m(\u001b[32m\"foo\"\u001b[39m, \u001b[33mFunDef\u001b[39m(\u001b[33mList\u001b[39m(), \u001b[33mIdent\u001b[39m(\u001b[32m\"x\"\u001b[39m)), \u001b[33mFunCall\u001b[39m(\u001b[33mIdent\u001b[39m(\u001b[32m\"foo\"\u001b[39m), \u001b[33mList\u001b[39m()))\n",
       "  )\n",
       ")\n",
       "\u001b[36mv3\u001b[39m: \u001b[32mValue\u001b[39m = \u001b[33mNum\u001b[39m(\u001b[32m10.0\u001b[39m)"
      ]
     },
     "execution_count": 10,
     "metadata": {},
     "output_type": "execute_result"
    }
   ],
   "source": [
    "//BEGIN TEST\n",
    "//Test zero arguments\n",
    "val x = Ident(\"x\")\n",
    "val foo = Ident(\"foo\")\n",
    "val fcall = FunCall(foo, List())\n",
    "val fdef = FunDef(List(), x)\n",
    "val l2 = Let(\"foo\", fdef, fcall)\n",
    "val l3 = Let(\"x\", Const(10), l2)\n",
    "val p2 = TopLevel(l3)\n",
    "val v3 = evalProgram(p2)\n",
    "println(s\"Your program evaluated to $v3\")\n",
    "assert(v3 == Num(10.0), \"Test 3 Failed\")\n",
    "passed(5)\n",
    "//END TEST"
   ]
  },
  {
   "cell_type": "code",
   "execution_count": 11,
   "metadata": {
    "nbgrader": {
     "grade": true,
     "grade_id": "cell-e305341e54d2e37c",
     "locked": true,
     "points": 5,
     "schema_version": 3,
     "solution": false,
     "task": false
    }
   },
   "outputs": [
    {
     "name": "stdout",
     "output_type": "stream",
     "text": [
      "ammonite.$sess.cmd6$Helper$ErrorException: Argument length mismatch\n",
      "\n",
      "*** Tests Passed (5 points) ***\n"
     ]
    },
    {
     "data": {
      "text/plain": [
       "\u001b[36mx\u001b[39m: \u001b[32mIdent\u001b[39m = \u001b[33mIdent\u001b[39m(\u001b[32m\"x\"\u001b[39m)\n",
       "\u001b[36mfoo\u001b[39m: \u001b[32mIdent\u001b[39m = \u001b[33mIdent\u001b[39m(\u001b[32m\"foo\"\u001b[39m)\n",
       "\u001b[36mfcall\u001b[39m: \u001b[32mFunCall\u001b[39m = \u001b[33mFunCall\u001b[39m(\u001b[33mIdent\u001b[39m(\u001b[32m\"foo\"\u001b[39m), \u001b[33mList\u001b[39m(\u001b[33mConst\u001b[39m(\u001b[32m1.0\u001b[39m)))\n",
       "\u001b[36mfdef\u001b[39m: \u001b[32mFunDef\u001b[39m = \u001b[33mFunDef\u001b[39m(\u001b[33mList\u001b[39m(), \u001b[33mIdent\u001b[39m(\u001b[32m\"x\"\u001b[39m))\n",
       "\u001b[36ml2\u001b[39m: \u001b[32mLet\u001b[39m = \u001b[33mLet\u001b[39m(\n",
       "  \u001b[32m\"foo\"\u001b[39m,\n",
       "  \u001b[33mFunDef\u001b[39m(\u001b[33mList\u001b[39m(), \u001b[33mIdent\u001b[39m(\u001b[32m\"x\"\u001b[39m)),\n",
       "  \u001b[33mFunCall\u001b[39m(\u001b[33mIdent\u001b[39m(\u001b[32m\"foo\"\u001b[39m), \u001b[33mList\u001b[39m(\u001b[33mConst\u001b[39m(\u001b[32m1.0\u001b[39m)))\n",
       ")\n",
       "\u001b[36ml3\u001b[39m: \u001b[32mLet\u001b[39m = \u001b[33mLet\u001b[39m(\n",
       "  \u001b[32m\"x\"\u001b[39m,\n",
       "  \u001b[33mConst\u001b[39m(\u001b[32m10.0\u001b[39m),\n",
       "  \u001b[33mLet\u001b[39m(\n",
       "    \u001b[32m\"foo\"\u001b[39m,\n",
       "    \u001b[33mFunDef\u001b[39m(\u001b[33mList\u001b[39m(), \u001b[33mIdent\u001b[39m(\u001b[32m\"x\"\u001b[39m)),\n",
       "    \u001b[33mFunCall\u001b[39m(\u001b[33mIdent\u001b[39m(\u001b[32m\"foo\"\u001b[39m), \u001b[33mList\u001b[39m(\u001b[33mConst\u001b[39m(\u001b[32m1.0\u001b[39m)))\n",
       "  )\n",
       ")\n",
       "\u001b[36mp4\u001b[39m: \u001b[32mTopLevel\u001b[39m = \u001b[33mTopLevel\u001b[39m(\n",
       "  \u001b[33mLet\u001b[39m(\n",
       "    \u001b[32m\"x\"\u001b[39m,\n",
       "    \u001b[33mConst\u001b[39m(\u001b[32m10.0\u001b[39m),\n",
       "    \u001b[33mLet\u001b[39m(\n",
       "      \u001b[32m\"foo\"\u001b[39m,\n",
       "      \u001b[33mFunDef\u001b[39m(\u001b[33mList\u001b[39m(), \u001b[33mIdent\u001b[39m(\u001b[32m\"x\"\u001b[39m)),\n",
       "      \u001b[33mFunCall\u001b[39m(\u001b[33mIdent\u001b[39m(\u001b[32m\"foo\"\u001b[39m), \u001b[33mList\u001b[39m(\u001b[33mConst\u001b[39m(\u001b[32m1.0\u001b[39m)))\n",
       "    )\n",
       "  )\n",
       ")\n",
       "\u001b[36mv4\u001b[39m: \u001b[32mValue\u001b[39m = Error"
      ]
     },
     "execution_count": 11,
     "metadata": {},
     "output_type": "execute_result"
    }
   ],
   "source": [
    "//BEGIN TEST\n",
    "//Evaluate with wrong number of args\n",
    "val x = Ident(\"x\")\n",
    "val foo = Ident(\"foo\")\n",
    "val fcall = FunCall(foo, List(Const(1.0)))\n",
    "val fdef = FunDef(List(), x)\n",
    "val l2 = Let(\"foo\", fdef, fcall)\n",
    "val l3 = Let(\"x\", Const(10), l2)\n",
    "val p4 = TopLevel(l3)\n",
    "val v4 = evalProgram(p4)\n",
    "assert(v4 == Error, \"Test 4 failed -- your program should have detected that arguments were mismatched\")\n",
    "passed(5)\n",
    "//END TEST"
   ]
  },
  {
   "cell_type": "code",
   "execution_count": 12,
   "metadata": {
    "nbgrader": {
     "grade": true,
     "grade_id": "cell-90f1081c0f420045",
     "locked": true,
     "points": 5,
     "schema_version": 3,
     "solution": false,
     "task": false
    }
   },
   "outputs": [
    {
     "name": "stdout",
     "output_type": "stream",
     "text": [
      "Your program evaluated to Num(100.0)\n",
      "\n",
      "*** Tests Passed (5 points) ***\n"
     ]
    },
    {
     "data": {
      "text/plain": [
       "\u001b[36mx\u001b[39m: \u001b[32mIdent\u001b[39m = \u001b[33mIdent\u001b[39m(\u001b[32m\"x\"\u001b[39m)\n",
       "\u001b[36my\u001b[39m: \u001b[32mIdent\u001b[39m = \u001b[33mIdent\u001b[39m(\u001b[32m\"y\"\u001b[39m)\n",
       "\u001b[36mz\u001b[39m: \u001b[32mIdent\u001b[39m = \u001b[33mIdent\u001b[39m(\u001b[32m\"z\"\u001b[39m)\n",
       "\u001b[36mfoo\u001b[39m: \u001b[32mIdent\u001b[39m = \u001b[33mIdent\u001b[39m(\u001b[32m\"foo\"\u001b[39m)\n",
       "\u001b[36mfun\u001b[39m: \u001b[32mFunDef\u001b[39m = \u001b[33mFunDef\u001b[39m(\n",
       "  \u001b[33mList\u001b[39m(\u001b[32m\"x\"\u001b[39m, \u001b[32m\"y\"\u001b[39m),\n",
       "  \u001b[33mPlus\u001b[39m(\u001b[33mPlus\u001b[39m(\u001b[33mPlus\u001b[39m(\u001b[33mIdent\u001b[39m(\u001b[32m\"x\"\u001b[39m), \u001b[33mIdent\u001b[39m(\u001b[32m\"y\"\u001b[39m)), \u001b[33mIdent\u001b[39m(\u001b[32m\"x\"\u001b[39m)), \u001b[33mIdent\u001b[39m(\u001b[32m\"z\"\u001b[39m))\n",
       ")\n",
       "\u001b[36mfuncall\u001b[39m: \u001b[32mFunCall\u001b[39m = \u001b[33mFunCall\u001b[39m(\u001b[33mIdent\u001b[39m(\u001b[32m\"foo\"\u001b[39m), \u001b[33mList\u001b[39m(\u001b[33mConst\u001b[39m(\u001b[32m10.0\u001b[39m), \u001b[33mConst\u001b[39m(\u001b[32m30.0\u001b[39m)))\n",
       "\u001b[36ml4\u001b[39m: \u001b[32mLet\u001b[39m = \u001b[33mLet\u001b[39m(\n",
       "  \u001b[32m\"x\"\u001b[39m,\n",
       "  \u001b[33mConst\u001b[39m(\u001b[32m1.0\u001b[39m),\n",
       "  \u001b[33mLet\u001b[39m(\n",
       "    \u001b[32m\"z\"\u001b[39m,\n",
       "    \u001b[33mConst\u001b[39m(\u001b[32m50.0\u001b[39m),\n",
       "    \u001b[33mLet\u001b[39m(\n",
       "      \u001b[32m\"foo\"\u001b[39m,\n",
       "      \u001b[33mFunDef\u001b[39m(\n",
       "        \u001b[33mList\u001b[39m(\u001b[32m\"x\"\u001b[39m, \u001b[32m\"y\"\u001b[39m),\n",
       "        \u001b[33mPlus\u001b[39m(\u001b[33mPlus\u001b[39m(\u001b[33mPlus\u001b[39m(\u001b[33mIdent\u001b[39m(\u001b[32m\"x\"\u001b[39m), \u001b[33mIdent\u001b[39m(\u001b[32m\"y\"\u001b[39m)), \u001b[33mIdent\u001b[39m(\u001b[32m\"x\"\u001b[39m)), \u001b[33mIdent\u001b[39m(\u001b[32m\"z\"\u001b[39m))\n",
       "      ),\n",
       "      \u001b[33mLet\u001b[39m(\n",
       "        \u001b[32m\"y\"\u001b[39m,\n",
       "        \u001b[33mConst\u001b[39m(\u001b[32m2.0\u001b[39m),\n",
       "        \u001b[33mFunCall\u001b[39m(\u001b[33mIdent\u001b[39m(\u001b[32m\"foo\"\u001b[39m), \u001b[33mList\u001b[39m(\u001b[33mConst\u001b[39m(\u001b[32m10.0\u001b[39m), \u001b[33mConst\u001b[39m(\u001b[32m30.0\u001b[39m)))\n",
       "      )\n",
       "    )\n",
       "  )\n",
       ")\n",
       "\u001b[36mp2\u001b[39m: \u001b[32mTopLevel\u001b[39m = \u001b[33mTopLevel\u001b[39m(\n",
       "  \u001b[33mLet\u001b[39m(\n",
       "    \u001b[32m\"x\"\u001b[39m,\n",
       "    \u001b[33mConst\u001b[39m(\u001b[32m1.0\u001b[39m),\n",
       "    \u001b[33mLet\u001b[39m(\n",
       "      \u001b[32m\"z\"\u001b[39m,\n",
       "      \u001b[33mConst\u001b[39m(\u001b[32m50.0\u001b[39m),\n",
       "      \u001b[33mLet\u001b[39m(\n",
       "        \u001b[32m\"foo\"\u001b[39m,\n",
       "        \u001b[33mFunDef\u001b[39m(\n",
       "          \u001b[33mList\u001b[39m(\u001b[32m\"x\"\u001b[39m, \u001b[32m\"y\"\u001b[39m),\n",
       "          \u001b[33mPlus\u001b[39m(\u001b[33mPlus\u001b[39m(\u001b[33mPlus\u001b[39m(\u001b[33mIdent\u001b[39m(\u001b[32m\"x\"\u001b[39m), \u001b[33mIdent\u001b[39m(\u001b[32m\"y\"\u001b[39m)), \u001b[33mIdent\u001b[39m(\u001b[32m\"x\"\u001b[39m)), \u001b[33mIdent\u001b[39m(\u001b[32m\"z\"\u001b[39m))\n",
       "        ),\n",
       "        \u001b[33mLet\u001b[39m(\n",
       "          \u001b[32m\"y\"\u001b[39m,\n",
       "          \u001b[33mConst\u001b[39m(\u001b[32m2.0\u001b[39m),\n",
       "          \u001b[33mFunCall\u001b[39m(\u001b[33mIdent\u001b[39m(\u001b[32m\"foo\"\u001b[39m), \u001b[33mList\u001b[39m(\u001b[33mConst\u001b[39m(\u001b[32m10.0\u001b[39m), \u001b[33mConst\u001b[39m(\u001b[32m30.0\u001b[39m)))\n",
       "        )\n",
       "      )\n",
       "    )\n",
       "  )\n",
       ")\n",
       "\u001b[36mv2\u001b[39m: \u001b[32mValue\u001b[39m = \u001b[33mNum\u001b[39m(\u001b[32m100.0\u001b[39m)"
      ]
     },
     "execution_count": 12,
     "metadata": {},
     "output_type": "execute_result"
    }
   ],
   "source": [
    "//BEGIN TEST\n",
    "// TEST scoping\n",
    "val x = Ident(\"x\")\n",
    "val y = Ident(\"y\")\n",
    "val z = Ident(\"z\")\n",
    "val foo = Ident(\"foo\")\n",
    "\n",
    "// function(x, y)  x + y + x + z \n",
    "val fun = FunDef(List(\"x\", \"y\"), Plus(Plus(Plus(x, y), x),z))\n",
    "val funcall = FunCall(foo, List(Const(10.0), Const(30.0)))\n",
    "// let x = 1 in\n",
    "//     let z = 50 in\n",
    "//       let foo = fun(x,y) x + y + x + z in\n",
    "//         let = 2 in\n",
    "//           f(10,30)\n",
    "val l4 = Let(\"x\", Const(1.0), Let(\"z\", Const(50.0), Let(\"foo\", fun, Let(\"y\", Const(2.0), funcall))))\n",
    "//Program\n",
    "val p2 = TopLevel(l4)\n",
    "val v2 = evalProgram(p2)\n",
    "println(s\"Your program evaluated to $v2\")\n",
    "assert(v2 == Num(100.0), \"Test 5 Failed == you did not evaluate static scoping correctly\")\n",
    "passed(5)\n",
    "//END TEST"
   ]
  },
  {
   "cell_type": "code",
   "execution_count": 13,
   "metadata": {
    "nbgrader": {
     "grade": true,
     "grade_id": "cell-4fe0ae3d93422dbe",
     "locked": true,
     "points": 5,
     "schema_version": 3,
     "solution": false,
     "task": false
    }
   },
   "outputs": [
    {
     "name": "stdout",
     "output_type": "stream",
     "text": [
      "ammonite.$sess.cmd6$Helper$ErrorException: Tried to use a numerical value as a function\n",
      "\n",
      "*** Tests Passed (5 points) ***\n"
     ]
    },
    {
     "data": {
      "text/plain": [
       "\u001b[36mx\u001b[39m: \u001b[32mIdent\u001b[39m = \u001b[33mIdent\u001b[39m(\u001b[32m\"x\"\u001b[39m)\n",
       "\u001b[36mfcall\u001b[39m: \u001b[32mFunCall\u001b[39m = \u001b[33mFunCall\u001b[39m(\u001b[33mIdent\u001b[39m(\u001b[32m\"x\"\u001b[39m), \u001b[33mList\u001b[39m(\u001b[33mConst\u001b[39m(\u001b[32m1.0\u001b[39m), \u001b[33mConst\u001b[39m(\u001b[32m5.0\u001b[39m), \u001b[33mConst\u001b[39m(\u001b[32m20.0\u001b[39m)))\n",
       "\u001b[36ml3\u001b[39m: \u001b[32mLet\u001b[39m = \u001b[33mLet\u001b[39m(\n",
       "  \u001b[32m\"x\"\u001b[39m,\n",
       "  \u001b[33mConst\u001b[39m(\u001b[32m10.0\u001b[39m),\n",
       "  \u001b[33mFunCall\u001b[39m(\u001b[33mIdent\u001b[39m(\u001b[32m\"x\"\u001b[39m), \u001b[33mList\u001b[39m(\u001b[33mConst\u001b[39m(\u001b[32m1.0\u001b[39m), \u001b[33mConst\u001b[39m(\u001b[32m5.0\u001b[39m), \u001b[33mConst\u001b[39m(\u001b[32m20.0\u001b[39m)))\n",
       ")\n",
       "\u001b[36mp5\u001b[39m: \u001b[32mTopLevel\u001b[39m = \u001b[33mTopLevel\u001b[39m(\n",
       "  \u001b[33mLet\u001b[39m(\n",
       "    \u001b[32m\"x\"\u001b[39m,\n",
       "    \u001b[33mConst\u001b[39m(\u001b[32m10.0\u001b[39m),\n",
       "    \u001b[33mFunCall\u001b[39m(\u001b[33mIdent\u001b[39m(\u001b[32m\"x\"\u001b[39m), \u001b[33mList\u001b[39m(\u001b[33mConst\u001b[39m(\u001b[32m1.0\u001b[39m), \u001b[33mConst\u001b[39m(\u001b[32m5.0\u001b[39m), \u001b[33mConst\u001b[39m(\u001b[32m20.0\u001b[39m)))\n",
       "  )\n",
       ")\n",
       "\u001b[36mv5\u001b[39m: \u001b[32mValue\u001b[39m = Error"
      ]
     },
     "execution_count": 13,
     "metadata": {},
     "output_type": "execute_result"
    }
   ],
   "source": [
    "//BEGIN TEST\n",
    "//Evaluate with non function call\n",
    "val x = Ident(\"x\")\n",
    "val fcall = FunCall(x, List(Const(1.0), Const(5.0), Const(20.0)))\n",
    "val l3 = Let(\"x\", Const(10), fcall)\n",
    "val p5 = TopLevel(l3)\n",
    "val v5 = evalProgram(p5)\n",
    "assert(v5 == Error, \"Test 6 failed -- your eval should have detected that a function call is made on a expression that is not a function\")\n",
    "passed(5)\n",
    "//END TEST"
   ]
  }
 ],
 "metadata": {
  "celltoolbar": "Create Assignment",
  "kernelspec": {
   "display_name": "Scala",
   "language": "scala",
   "name": "scala"
  },
  "language_info": {
   "codemirror_mode": "text/x-scala",
   "file_extension": ".scala",
   "mimetype": "text/x-scala",
   "name": "scala",
   "nbconvert_exporter": "script",
   "version": "2.12.8"
  }
 },
 "nbformat": 4,
 "nbformat_minor": 2
}
