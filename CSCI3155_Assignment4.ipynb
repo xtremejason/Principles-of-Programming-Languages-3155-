{
 "cells": [
  {
   "cell_type": "markdown",
   "metadata": {
    "nbgrader": {
     "grade": false,
     "grade_id": "cell-554205c9fbf8e007",
     "locked": true,
     "schema_version": 3,
     "solution": false
    }
   },
   "source": [
    "# CSCI 3155: Assignment 5\n",
    "\n",
    "Topics Covered: Operations on inductive definitions, building an interpreter, big step operational semantics and using map, foldLeft and filter functions to replace loops."
   ]
  },
  {
   "cell_type": "markdown",
   "metadata": {},
   "source": [
    "__Name__: WRITE YOUR NAME HERE"
   ]
  },
  {
   "cell_type": "code",
   "execution_count": 1,
   "metadata": {
    "nbgrader": {
     "grade": false,
     "grade_id": "cell-523e63f33a38d446",
     "locked": true,
     "schema_version": 3,
     "solution": false
    }
   },
   "outputs": [
    {
     "data": {
      "text/plain": [
       "defined \u001b[32mfunction\u001b[39m \u001b[36mpassed\u001b[39m"
      ]
     },
     "execution_count": 1,
     "metadata": {},
     "output_type": "execute_result"
    }
   ],
   "source": [
    "// TEST HELPER\n",
    "def passed(points: Int) {\n",
    "    require(points >=0)\n",
    "    if (points == 1) print(s\"Tests Passed (1 point)\")\n",
    "    else print(s\"Tests Passed ($points points)\") \n",
    "}"
   ]
  },
  {
   "cell_type": "markdown",
   "metadata": {
    "nbgrader": {
     "grade": false,
     "grade_id": "cell-86df80222a5e29f3",
     "locked": true,
     "schema_version": 3,
     "solution": false
    }
   },
   "source": [
    "## Problem 1: Manipulating ASTs, Inference Rules (30 points)"
   ]
  },
  {
   "cell_type": "markdown",
   "metadata": {
    "nbgrader": {
     "grade": false,
     "grade_id": "cell-7b3432cb0c0460ce",
     "locked": true,
     "schema_version": 3,
     "solution": false
    }
   },
   "source": [
    "### 1A: Derivatives of Expressions (20 points)\n",
    "\n",
    "We have defined a grammar for arithmetic expressions in our class notes. \n",
    "\n",
    "$$\\begin{array}{rcll}\n",
    "\\textbf{Expr} & \\rightarrow & Const(\\textbf{Double}) \\\\\n",
    "& |  & Ident(\\textbf{String}) \\\\\n",
    "& | & Plus( \\textbf{Expr}, \\textbf{Expr})  \\\\\n",
    "& | & Minus( \\textbf{Expr}, \\textbf{Expr}) \\\\\n",
    "& | & Mult(\\textbf{Expr}, \\textbf{Expr}) \\\\\n",
    "& | & Div(\\textbf{Expr}, \\textbf{Expr}) \\\\\n",
    "& | & Exp(\\textbf{Expr}) \\\\\n",
    "& | & Sine(\\textbf{Expr}) \\\\\n",
    "& | & Cosine(\\textbf{Expr}) \\\\\\\\\n",
    "\\textbf{Double} & \\rightarrow & \\text{all double precision numbers in Scala}\\\\\n",
    "\\textbf{String} & \\rightarrow & \\text{all scala strings}\\\\\n",
    "\\end{array}$$\n",
    "\n",
    "For this problem, you will be writing an _automatic differentiation_ method that, given an expression `e` which involves just a single identifier `x` (no need to check this fact), will return an expression for `de/dx`, the derivative of `e` with respect to `x`.\n",
    "\n",
    "Eg., `e = Sine(Mult(Ident(\"x\"), Const(2.0)))` should return `Mult(Const(2.0), Cosine(  Mult(Ident(\"x\"), Const(2.0)))`.  In plain math, $\\frac{d \\sin(2x)}{dx} = 2 \\cos( 2x) $\n",
    "\n",
    "We will write down the inference rules for derivative, as follows.\n",
    "\n",
    "A rule for constants ($\\frac{dc}{dx} = 0, c \\in \\mathbb{R}$)\n",
    "\n",
    "$\\begin{array}{c}\n",
    "\\\\\n",
    "\\hline \n",
    "\\text{derivative}( \\texttt{Const(f)} , x) = \\texttt{Const(0.0)} \\\\\n",
    "\\end{array} \\mathbf{(Constant)}$      \n",
    "\n",
    "A rule for identifiers $\\frac{dx}{dx} = 1, \\frac{dy}{dx} = 0$ for $y \\not= x$.\n",
    "\n",
    "$\\begin{array}{c}\n",
    "\\\\\n",
    "\\hline \n",
    "\\text{derivative}( \\texttt{Ident(s)} , x) = \\left\\{ \\begin{array}{ll} \\texttt{Const(1.0)} & x == s \\\\\n",
    "\\texttt{Const(0.0)} & \\text{otherwise} \\end{array} \\right.\\\\\n",
    "\\end{array} \\mathbf{(Identifier)}  \\;\\;\\;\n",
    "$\n",
    "\n",
    "A rule for plus $\\frac{d}{dx} (e_1 + e_2) = \\frac{de_1}{dx} + \\frac{de_2}{dx}$.\n",
    "\n",
    "$ \\begin{array}{c}\n",
    "\\text{derivative}(\\texttt{e1}, x) = \\texttt{f1},\\;\\;\\text{derivative}(\\texttt{e2}, x) = \\texttt{f2}\\\\\n",
    "\\hline\n",
    "\\text{derivative}(\\texttt{Plus(e1, e2)}, x) = \\texttt{Plus(f1, f2)} \\\\\n",
    "\\end{array} \\mathbf{(Plus)} $\n",
    "\n",
    "A rule for multiplication: $\\frac{d}{dx} (e_1 e_2) = e_2 \\frac{de_1}{dx} + e_1 \\frac{de_2}{dx}$.\n",
    "\n",
    "$ \\begin{array}{c}\n",
    "\\text{derivative}(\\texttt{e1}, x) = \\texttt{f1},\\;\\;\\text{derivative}(\\texttt{e2}, x) = \\texttt{f2}\\\\\n",
    "\\hline\n",
    "\\text{derivative}(\\texttt{Mult(e1, e2)}, x) = \\texttt{Plus(Mult(f1, e2), Mult(f2, e1))} \\\\\n",
    "\\end{array} \\mathbf{(Mult)} $\n",
    "\n",
    "A rule for division $\\frac{d}{dx} \\left(\\frac{e_1}{e_2}\\right) = \\frac{\\frac{de_1}{dx}}{e_2} - \\frac{e_1 \\frac{d e_2}{dx}}{e_2^2}$\n",
    "\n",
    "$ \\begin{array}{c}\n",
    "\\text{derivative}(\\texttt{e1}, x) = \\texttt{f1},\\;\\;\\text{derivative}(\\texttt{e2}, x) = \\texttt{f2}\\\\\n",
    "\\hline\n",
    "\\text{derivative}(\\texttt{Div(e1, e2)}, x) = \\texttt{Minus(Div(f1, e2), Div(Mult(e1, f2), Mult(e2, e2)))} \\\\\n",
    "\\end{array} \\mathbf{(Div)} $\n",
    "\n",
    "A rule for exponentiation $\\frac{d}{dx} \\left(e^{e_1}\\right) = e^{e_1} \\frac{de_1}{dx}$\n",
    "\n",
    "$ \\begin{array}{c}\n",
    "\\text{derivative}(\\texttt{e1}, x) = \\texttt{f1}\\\\\n",
    "\\hline\n",
    "\\text{derivative}(\\texttt{Exp(e1)}, x) = \\texttt{Mult(Exp(e1), f1)} \\\\\n",
    "\\end{array} \\mathbf{(Exp)} $\n",
    "\n",
    "The rules for $\\mathbf{Minus}$, $\\mathbf{Sine}$, and $\\mathbf{Cosine}$ are left for you to write.\n",
    "You do not need to write your solution for these rules in this notebook, __but__, you do need to give them in code below.\n",
    "(Don't forget about the chain rule!)"
   ]
  },
  {
   "cell_type": "code",
   "execution_count": 2,
   "metadata": {
    "nbgrader": {
     "grade": false,
     "grade_id": "cell-5a6ded9a6f746cee",
     "locked": true,
     "schema_version": 3,
     "solution": false
    }
   },
   "outputs": [
    {
     "data": {
      "text/plain": [
       "defined \u001b[32mtrait\u001b[39m \u001b[36mExpr\u001b[39m\n",
       "defined \u001b[32mclass\u001b[39m \u001b[36mConst\u001b[39m\n",
       "defined \u001b[32mclass\u001b[39m \u001b[36mIdent\u001b[39m\n",
       "defined \u001b[32mclass\u001b[39m \u001b[36mPlus\u001b[39m\n",
       "defined \u001b[32mclass\u001b[39m \u001b[36mMinus\u001b[39m\n",
       "defined \u001b[32mclass\u001b[39m \u001b[36mMult\u001b[39m\n",
       "defined \u001b[32mclass\u001b[39m \u001b[36mDiv\u001b[39m\n",
       "defined \u001b[32mclass\u001b[39m \u001b[36mSine\u001b[39m\n",
       "defined \u001b[32mclass\u001b[39m \u001b[36mCosine\u001b[39m\n",
       "defined \u001b[32mclass\u001b[39m \u001b[36mExp\u001b[39m"
      ]
     },
     "execution_count": 2,
     "metadata": {},
     "output_type": "execute_result"
    }
   ],
   "source": [
    "sealed trait Expr\n",
    "case class Const(f: Double) extends Expr\n",
    "case class Ident(s: String) extends Expr\n",
    "case class Plus(e1: Expr, e2: Expr) extends Expr\n",
    "case class Minus(e1: Expr, e2: Expr) extends Expr\n",
    "case class Mult(e1: Expr, e2: Expr) extends Expr\n",
    "case class Div(e1: Expr, e2: Expr) extends Expr\n",
    "case class Sine(e: Expr) extends Expr\n",
    "case class Cosine(e: Expr) extends Expr\n",
    "case class Exp(e: Expr) extends Expr\n",
    "// We will skip over Log(e: Expr)"
   ]
  },
  {
   "cell_type": "markdown",
   "metadata": {
    "nbgrader": {
     "grade": false,
     "grade_id": "cell-3856b2383d61965d",
     "locked": true,
     "schema_version": 3,
     "solution": false
    }
   },
   "source": [
    "Write a function `derivativeExpr` that calculates the derivative of an expression\n",
    "`e` w.r.t a given identifier as a string `x`."
   ]
  },
  {
   "cell_type": "code",
   "execution_count": 3,
   "metadata": {
    "nbgrader": {
     "grade": false,
     "grade_id": "2a-answer",
     "locked": false,
     "schema_version": 3,
     "solution": true
    }
   },
   "outputs": [
    {
     "data": {
      "text/plain": [
       "defined \u001b[32mfunction\u001b[39m \u001b[36mderivativeExpr\u001b[39m"
      ]
     },
     "execution_count": 3,
     "metadata": {},
     "output_type": "execute_result"
    }
   ],
   "source": [
    "def derivativeExpr(e: Expr, x: String): Expr =\n",
    "    // BEGIN SOLUTION\n",
    "    e match  {\n",
    "        case Const(_) => Const(0.0)\n",
    "        case Ident(s) => if (s == x) { Const(1.0)} else {Const(0.0)}\n",
    "        case Plus(e1, e2) => Plus(derivativeExpr(e1, x), derivativeExpr(e2, x))\n",
    "        case Minus(e1, e2) => Minus(derivativeExpr(e1, x), derivativeExpr(e2, x))\n",
    "        case Mult(e1, e2) => Plus( Mult(e1, derivativeExpr(e2, x)), Mult(e2, derivativeExpr(e1, x)))\n",
    "        case Div(e1, e2) => Minus( Div(derivativeExpr(e1, x), e2), Div( Mult(e1, derivativeExpr(e2, x)), Mult(e2, e2)))\n",
    "        case Exp(e) => Mult(derivativeExpr(e, x), Exp(e))\n",
    "        case Sine(e) => Mult(derivativeExpr(e, x), Cosine(e))\n",
    "        case Cosine(e) => Minus(Const(0.0), Mult(derivativeExpr(e, x), Sine(e)))\n",
    "    }\n",
    "    // END SOLUTION"
   ]
  },
  {
   "cell_type": "code",
   "execution_count": 4,
   "metadata": {
    "nbgrader": {
     "grade": false,
     "grade_id": "cell-5ebe5c717def6816",
     "locked": true,
     "schema_version": 3,
     "solution": false
    }
   },
   "outputs": [
    {
     "data": {
      "text/plain": [
       "defined \u001b[32mfunction\u001b[39m \u001b[36mevalExpr\u001b[39m\n",
       "defined \u001b[32mfunction\u001b[39m \u001b[36mtestExpressions\u001b[39m\n",
       "\u001b[36mallVals\u001b[39m: \u001b[32mList\u001b[39m[\u001b[32mDouble\u001b[39m] = \u001b[33mList\u001b[39m(\n",
       "  \u001b[32m-5.0\u001b[39m,\n",
       "  \u001b[32m-4.5\u001b[39m,\n",
       "  \u001b[32m-4.0\u001b[39m,\n",
       "  \u001b[32m-3.5\u001b[39m,\n",
       "  \u001b[32m-3.0\u001b[39m,\n",
       "  \u001b[32m-2.5\u001b[39m,\n",
       "  \u001b[32m-1.9\u001b[39m,\n",
       "  \u001b[32m-1.4\u001b[39m,\n",
       "  \u001b[32m-1.0\u001b[39m,\n",
       "  \u001b[32m-0.5\u001b[39m,\n",
       "  \u001b[32m0.1\u001b[39m,\n",
       "  \u001b[32m0.5\u001b[39m,\n",
       "  \u001b[32m1.0\u001b[39m,\n",
       "  \u001b[32m1.5\u001b[39m,\n",
       "  \u001b[32m2.0\u001b[39m,\n",
       "  \u001b[32m2.5\u001b[39m,\n",
       "  \u001b[32m3.0\u001b[39m,\n",
       "  \u001b[32m3.5\u001b[39m,\n",
       "  \u001b[32m4.0\u001b[39m,\n",
       "  \u001b[32m4.5\u001b[39m,\n",
       "  \u001b[32m5.0\u001b[39m\n",
       ")"
      ]
     },
     "execution_count": 4,
     "metadata": {},
     "output_type": "execute_result"
    }
   ],
   "source": [
    "// BEGIN TESTS\n",
    "\n",
    "// TEST HELPERS\n",
    "def evalExpr (e: Expr, env: Map[String, Double]): Double = e match {\n",
    "    case Const (f) => f\n",
    "    case Ident (str) => { if (env.contains(str)){\n",
    "                                env(str)\n",
    "                            } else {\n",
    "        throw new IllegalArgumentException(s\"Environment does not contain mapping for $str\")\n",
    "    }\n",
    "                        }\n",
    "    case Plus(e1, e2) => {\n",
    "        (evalExpr(e1, env)) + (evalExpr(e2, env))\n",
    "    }\n",
    "    \n",
    "    case Minus(e1, e2) => {\n",
    "        (evalExpr(e1, env)) - (evalExpr(e2, env))\n",
    "    }\n",
    "    \n",
    "    case Mult(e1, e2) => {\n",
    "        (evalExpr(e1, env)) * (evalExpr(e2, env))\n",
    "    }\n",
    "    \n",
    "    case Div(e1, e2) => {\n",
    "        (evalExpr(e1, env)) / (evalExpr(e2, env))\n",
    "    }\n",
    "    \n",
    "    case Exp(e) => math.exp( evalExpr(e, env))\n",
    "    \n",
    "    case Sine(e) => math.sin( evalExpr(e, env))\n",
    "    \n",
    "    case Cosine(e) => math.cos(evalExpr(e, env))\n",
    "}\n",
    "\n",
    "def testExpressions(exp: Expr, deriv_expected: Expr, testVals: List[Double]): Boolean = {\n",
    "    val tol: Double = 1E-06\n",
    "    val deriv_act = derivativeExpr(exp, \"x\")\n",
    "    testVals forall { \n",
    "            x => {\n",
    "              val res = math.abs( evalExpr(deriv_act, Map(\"x\"-> x)) - evalExpr(deriv_expected, Map(\"x\" -> x)) ) <= tol\n",
    "              if (!res) { println(s\"Failed at $x\")}\n",
    "              res\n",
    "            }\n",
    "    }\n",
    "}\n",
    "\n",
    "val allVals = List(-5.0, -4.5, -4.0, -3.5, -3.0, -2.5, -1.9, -1.4, -1.0, -0.5, 0.1, 0.5, 1.0, 1.5, 2.0, 2.5, 3.0, 3.5, 4.0, 4.5, 5.0)"
   ]
  },
  {
   "cell_type": "code",
   "execution_count": 5,
   "metadata": {
    "nbgrader": {
     "grade": true,
     "grade_id": "2a-test-ident_plus_const",
     "locked": true,
     "points": 5,
     "schema_version": 3,
     "solution": false
    }
   },
   "outputs": [
    {
     "name": "stdout",
     "output_type": "stream",
     "text": [
      "Tests Passed (5 points)"
     ]
    },
    {
     "data": {
      "text/plain": [
       "\u001b[36me1\u001b[39m: \u001b[32mPlus\u001b[39m = \u001b[33mPlus\u001b[39m(\u001b[33mIdent\u001b[39m(\u001b[32m\"x\"\u001b[39m), \u001b[33mConst\u001b[39m(\u001b[32m2.0\u001b[39m))"
      ]
     },
     "execution_count": 5,
     "metadata": {},
     "output_type": "execute_result"
    }
   ],
   "source": [
    "val e1 = Plus(Ident(\"x\"), Const(2.0))\n",
    "assert(testExpressions(e1, Const(1.0), allVals ), s\"Test 1 Failed -- Input: $e1 \")\n",
    "\n",
    "passed(5)"
   ]
  },
  {
   "cell_type": "code",
   "execution_count": 6,
   "metadata": {
    "nbgrader": {
     "grade": true,
     "grade_id": "2a-test-minus_trig",
     "locked": true,
     "points": 5,
     "schema_version": 3,
     "solution": false
    }
   },
   "outputs": [
    {
     "name": "stdout",
     "output_type": "stream",
     "text": [
      "Tests Passed (5 points)"
     ]
    },
    {
     "data": {
      "text/plain": [
       "\u001b[36me2\u001b[39m: \u001b[32mPlus\u001b[39m = \u001b[33mPlus\u001b[39m(\u001b[33mCosine\u001b[39m(\u001b[33mIdent\u001b[39m(\u001b[32m\"x\"\u001b[39m)), \u001b[33mSine\u001b[39m(\u001b[33mIdent\u001b[39m(\u001b[32m\"x\"\u001b[39m)))\n",
       "\u001b[36med2\u001b[39m: \u001b[32mMinus\u001b[39m = \u001b[33mMinus\u001b[39m(\u001b[33mCosine\u001b[39m(\u001b[33mIdent\u001b[39m(\u001b[32m\"x\"\u001b[39m)), \u001b[33mSine\u001b[39m(\u001b[33mIdent\u001b[39m(\u001b[32m\"x\"\u001b[39m)))"
      ]
     },
     "execution_count": 6,
     "metadata": {},
     "output_type": "execute_result"
    }
   ],
   "source": [
    "val e2 = Plus(Cosine(Ident(\"x\")), Sine(Ident(\"x\")))\n",
    "val ed2 = Minus(Cosine(Ident(\"x\")), Sine(Ident(\"x\")))\n",
    "assert(testExpressions(e2, ed2, allVals), s\"Test 2 Failed: Input is $e2\")\n",
    "\n",
    "passed(5)"
   ]
  },
  {
   "cell_type": "code",
   "execution_count": 7,
   "metadata": {
    "nbgrader": {
     "grade": true,
     "grade_id": "2a-test-exp_mult",
     "locked": true,
     "points": 5,
     "schema_version": 3,
     "solution": false
    }
   },
   "outputs": [
    {
     "name": "stdout",
     "output_type": "stream",
     "text": [
      "Tests Passed (5 points)"
     ]
    },
    {
     "data": {
      "text/plain": [
       "\u001b[36mx\u001b[39m: \u001b[32mIdent\u001b[39m = \u001b[33mIdent\u001b[39m(\u001b[32m\"x\"\u001b[39m)\n",
       "\u001b[36me3\u001b[39m: \u001b[32mExp\u001b[39m = \u001b[33mExp\u001b[39m(\u001b[33mMult\u001b[39m(\u001b[33mIdent\u001b[39m(\u001b[32m\"x\"\u001b[39m), \u001b[33mIdent\u001b[39m(\u001b[32m\"x\"\u001b[39m)))\n",
       "\u001b[36med3\u001b[39m: \u001b[32mMult\u001b[39m = \u001b[33mMult\u001b[39m(\n",
       "  \u001b[33mMult\u001b[39m(\u001b[33mConst\u001b[39m(\u001b[32m2.0\u001b[39m), \u001b[33mIdent\u001b[39m(\u001b[32m\"x\"\u001b[39m)),\n",
       "  \u001b[33mExp\u001b[39m(\u001b[33mMult\u001b[39m(\u001b[33mIdent\u001b[39m(\u001b[32m\"x\"\u001b[39m), \u001b[33mIdent\u001b[39m(\u001b[32m\"x\"\u001b[39m)))\n",
       ")"
      ]
     },
     "execution_count": 7,
     "metadata": {},
     "output_type": "execute_result"
    }
   ],
   "source": [
    "val x = Ident(\"x\")\n",
    "val e3 = Exp(Mult(x, x))\n",
    "val ed3 = Mult(Mult(Const(2.0), x), e3)\n",
    "assert(testExpressions(e3, ed3, allVals), s\"Test 3 Failed: Input is $e3\")\n",
    "\n",
    "passed(5)"
   ]
  },
  {
   "cell_type": "code",
   "execution_count": 8,
   "metadata": {
    "nbgrader": {
     "grade": true,
     "grade_id": "cell-98105bfe539405d9",
     "locked": true,
     "points": 5,
     "schema_version": 3,
     "solution": false
    }
   },
   "outputs": [
    {
     "name": "stdout",
     "output_type": "stream",
     "text": [
      "Tests Passed (5 points)"
     ]
    },
    {
     "data": {
      "text/plain": [
       "\u001b[36me4\u001b[39m: \u001b[32mDiv\u001b[39m = \u001b[33mDiv\u001b[39m(\u001b[33mIdent\u001b[39m(\u001b[32m\"x\"\u001b[39m), \u001b[33mPlus\u001b[39m(\u001b[33mIdent\u001b[39m(\u001b[32m\"x\"\u001b[39m), \u001b[33mConst\u001b[39m(\u001b[32m2.0\u001b[39m)))\n",
       "\u001b[36med4\u001b[39m: \u001b[32mDiv\u001b[39m = \u001b[33mDiv\u001b[39m(\n",
       "  \u001b[33mConst\u001b[39m(\u001b[32m2.0\u001b[39m),\n",
       "  \u001b[33mMult\u001b[39m(\u001b[33mPlus\u001b[39m(\u001b[33mIdent\u001b[39m(\u001b[32m\"x\"\u001b[39m), \u001b[33mConst\u001b[39m(\u001b[32m2.0\u001b[39m)), \u001b[33mPlus\u001b[39m(\u001b[33mIdent\u001b[39m(\u001b[32m\"x\"\u001b[39m), \u001b[33mConst\u001b[39m(\u001b[32m2.0\u001b[39m)))\n",
       ")\n",
       "\u001b[36me5\u001b[39m: \u001b[32mSine\u001b[39m = \u001b[33mSine\u001b[39m(\n",
       "  \u001b[33mMult\u001b[39m(\n",
       "    \u001b[33mExp\u001b[39m(\u001b[33mMinus\u001b[39m(\u001b[33mCosine\u001b[39m(\u001b[33mDiv\u001b[39m(\u001b[33mIdent\u001b[39m(\u001b[32m\"x\"\u001b[39m), \u001b[33mIdent\u001b[39m(\u001b[32m\"x\"\u001b[39m))), \u001b[33mCosine\u001b[39m(\u001b[33mConst\u001b[39m(\u001b[32m1.0\u001b[39m)))),\n",
       "    \u001b[33mIdent\u001b[39m(\u001b[32m\"x\"\u001b[39m)\n",
       "  )\n",
       ")\n",
       "\u001b[36med5\u001b[39m: \u001b[32mCosine\u001b[39m = \u001b[33mCosine\u001b[39m(\u001b[33mIdent\u001b[39m(\u001b[32m\"x\"\u001b[39m))"
      ]
     },
     "execution_count": 8,
     "metadata": {},
     "output_type": "execute_result"
    }
   ],
   "source": [
    "val e4 = Div(x, Plus(x, Const(2.0)))\n",
    "val ed4 = Div(Const(2.0), Mult(Plus(x, Const(2.0)), Plus(x, Const(2.0))) )\n",
    "assert(testExpressions(e4, ed4, allVals), s\"Test 4 Failed: Input is $e4\")\n",
    "\n",
    "\n",
    "val e5 = Sine(Mult(Exp(Minus( Cosine(Div(x,x)), Cosine(Const(1.0)) )), x))\n",
    "val ed5 = Cosine(x)\n",
    "assert(testExpressions(e5, ed5, allVals), s\"Test 5 Failed: Input is $e5\")\n",
    "\n",
    "passed(5)\n",
    "// END TESTS"
   ]
  },
  {
   "cell_type": "markdown",
   "metadata": {
    "nbgrader": {
     "grade": false,
     "grade_id": "cell-c9182e4cf28a06d9",
     "locked": true,
     "schema_version": 3,
     "solution": false
    }
   },
   "source": [
    "### 1B: Newton's Algorithm Reloaded (10 points)\n",
    "\n",
    "Let's revisit problem 5 from assignment 1. Back in assignment 1, we hard coded the\n",
    "expression and its derivative. Here, we will use our `Expr` abstract syntax to \n",
    "define expressions and use the function you wrote in 2A to compute derivatives.\n",
    "You may also use the `evalExpr` function provided below.\n",
    "\n",
    "Newton invented the Newton-Raphson method for solving an equation. \n",
    "We are going to ask you to write some code to solve equations.\n",
    "\n",
    "`solveEquation(e: Expr, x0: Double, maxIters: Int = 1000)`\n",
    "\n",
    "Assume that the input expression has involves just one variable \"x\".\n",
    "\n",
    "To solve an equation of the form\n",
    "\n",
    "$$ x^2 - 3x + 2 == 0$$\n",
    "\n",
    "with initial guess at the solution: say $$x_0 = 4.5$$,\n",
    "\n",
    "We will input `val e = Plus(Minus(Mult(Ident(\"x\"), Ident(\"x\")), Mult(Const(3.0), Ident(\"x\"))), Const(2.0))`\n",
    "into the function\n",
    "\n",
    "`solveEquation( e, 1.5, 1000)`\n",
    "\n",
    "Each time we have the $i^{th}$ guess $x_i$, we update it as\n",
    "\n",
    "$$ x_{i+1} = x_i - \\frac{f(x_i)}{f'(x_i)} $$\n",
    "\n",
    "For our equation, $f(x) = x^2 - 3x +2$ and $f'(x) = 2 x - 3$ ( $f'$ is the derivative of $f$).\n",
    "\n",
    "Thus, our update equation is \n",
    "$$ x_{i+1} = x_i - \\frac{x_i^2 - 3 x_i + 2}{2 x_i - 3}$$.\n",
    "\n",
    "We stop whenever $|f(x_i)| \\leq 10^{-8}$ : i.e, we are very close to a root of the function\n",
    "_or_ $ i \\geq \\text{maxIters}$. \n",
    "\n",
    "Gory details are here:\n",
    "http://www.math.ubc.ca/~anstee/math104/newtonmethod.pdf\n",
    "\n"
   ]
  },
  {
   "cell_type": "code",
   "execution_count": 9,
   "metadata": {
    "nbgrader": {
     "grade": false,
     "grade_id": "cell-818418bd7ec6d27e",
     "locked": true,
     "schema_version": 3,
     "solution": false
    }
   },
   "outputs": [
    {
     "data": {
      "text/plain": [
       "defined \u001b[32mfunction\u001b[39m \u001b[36mevalExpr\u001b[39m"
      ]
     },
     "execution_count": 9,
     "metadata": {},
     "output_type": "execute_result"
    }
   ],
   "source": [
    "def evalExpr (e: Expr, env: Map[String, Double]): Double = e match {\n",
    "    case Const (f) => f\n",
    "    case Ident (str) => { if (env.contains(str)){\n",
    "                                env(str)\n",
    "                            } else {\n",
    "        throw new IllegalArgumentException(s\"Environment does not contain mapping for $str\")\n",
    "    }\n",
    "                        }\n",
    "    case Plus(e1, e2) => {\n",
    "        (evalExpr(e1, env)) + (evalExpr(e2, env))\n",
    "    }\n",
    "    \n",
    "    case Minus(e1, e2) => {\n",
    "        (evalExpr(e1, env)) - (evalExpr(e2, env))\n",
    "    }\n",
    "    \n",
    "    case Mult(e1, e2) => {\n",
    "        (evalExpr(e1, env)) * (evalExpr(e2, env))\n",
    "    }\n",
    "    \n",
    "    case Div(e1, e2) => {\n",
    "        (evalExpr(e1, env)) / (evalExpr(e2, env))\n",
    "    }\n",
    "    \n",
    "    case Exp(e) => math.exp( evalExpr(e, env))\n",
    "    \n",
    "    case Sine(e) => math.sin( evalExpr(e, env))\n",
    "    \n",
    "    case Cosine(e) => math.cos(evalExpr(e, env))\n",
    "}"
   ]
  },
  {
   "cell_type": "code",
   "execution_count": 10,
   "metadata": {
    "nbgrader": {
     "grade": false,
     "grade_id": "2b-answer",
     "locked": false,
     "schema_version": 3,
     "solution": true
    }
   },
   "outputs": [
    {
     "data": {
      "text/plain": [
       "defined \u001b[32mfunction\u001b[39m \u001b[36msolveEquation\u001b[39m"
      ]
     },
     "execution_count": 10,
     "metadata": {},
     "output_type": "execute_result"
    }
   ],
   "source": [
    "def solveEquation(e: Expr, x0: Double, maxIters:Int = 1000): Double  =\n",
    "    // BEGIN SOLUTION \n",
    "    {\n",
    "        val ed = derivativeExpr(e, \"x\")\n",
    "        var x: Double = x0\n",
    "        var y = evalExpr(e, Map(\"x\"-> x0))\n",
    "        var i = 0\n",
    "        while (math.abs(y) > 1e-08  && i < maxIters ) {\n",
    "            y = evalExpr(e, Map(\"x\"-> x))\n",
    "            val yd = evalExpr(ed, Map(\"x\" -> x))\n",
    "            x = x - y/yd\n",
    "            i = i + 1\n",
    "        }\n",
    "        return x\n",
    "    }\n",
    "    // END SOLUTION"
   ]
  },
  {
   "cell_type": "code",
   "execution_count": 11,
   "metadata": {
    "nbgrader": {
     "grade": true,
     "grade_id": "2b-test",
     "locked": true,
     "points": 10,
     "schema_version": 3,
     "solution": false
    }
   },
   "outputs": [
    {
     "name": "stdout",
     "output_type": "stream",
     "text": [
      "Tests Passed (10 points)"
     ]
    },
    {
     "data": {
      "text/plain": [
       "defined \u001b[32mfunction\u001b[39m \u001b[36mcheckSolution\u001b[39m\n",
       "\u001b[36me1\u001b[39m: \u001b[32mPlus\u001b[39m = \u001b[33mPlus\u001b[39m(\n",
       "  \u001b[33mMinus\u001b[39m(\u001b[33mMult\u001b[39m(\u001b[33mIdent\u001b[39m(\u001b[32m\"x\"\u001b[39m), \u001b[33mIdent\u001b[39m(\u001b[32m\"x\"\u001b[39m)), \u001b[33mMult\u001b[39m(\u001b[33mConst\u001b[39m(\u001b[32m3.0\u001b[39m), \u001b[33mIdent\u001b[39m(\u001b[32m\"x\"\u001b[39m))),\n",
       "  \u001b[33mConst\u001b[39m(\u001b[32m2.0\u001b[39m)\n",
       ")\n",
       "\u001b[36mv1\u001b[39m: \u001b[32mDouble\u001b[39m = \u001b[32m2.0\u001b[39m\n",
       "\u001b[36mx\u001b[39m: \u001b[32mIdent\u001b[39m = \u001b[33mIdent\u001b[39m(\u001b[32m\"x\"\u001b[39m)\n",
       "\u001b[36me2\u001b[39m: \u001b[32mMinus\u001b[39m = \u001b[33mMinus\u001b[39m(\u001b[33mSine\u001b[39m(\u001b[33mIdent\u001b[39m(\u001b[32m\"x\"\u001b[39m)), \u001b[33mPlus\u001b[39m(\u001b[33mCosine\u001b[39m(\u001b[33mIdent\u001b[39m(\u001b[32m\"x\"\u001b[39m)), \u001b[33mIdent\u001b[39m(\u001b[32m\"x\"\u001b[39m)))\n",
       "\u001b[36mv2\u001b[39m: \u001b[32mDouble\u001b[39m = \u001b[32m-1.2587281774926764\u001b[39m\n",
       "\u001b[36me3\u001b[39m: \u001b[32mMinus\u001b[39m = \u001b[33mMinus\u001b[39m(\u001b[33mExp\u001b[39m(\u001b[33mIdent\u001b[39m(\u001b[32m\"x\"\u001b[39m)), \u001b[33mConst\u001b[39m(\u001b[32m5.0\u001b[39m))\n",
       "\u001b[36mv3\u001b[39m: \u001b[32mDouble\u001b[39m = \u001b[32m1.6094379124341003\u001b[39m\n",
       "\u001b[36me4\u001b[39m: \u001b[32mMinus\u001b[39m = \u001b[33mMinus\u001b[39m(\n",
       "  \u001b[33mPlus\u001b[39m(\u001b[33mExp\u001b[39m(\u001b[33mSine\u001b[39m(\u001b[33mIdent\u001b[39m(\u001b[32m\"x\"\u001b[39m))), \u001b[33mExp\u001b[39m(\u001b[33mCosine\u001b[39m(\u001b[33mIdent\u001b[39m(\u001b[32m\"x\"\u001b[39m)))),\n",
       "  \u001b[33mConst\u001b[39m(\u001b[32m2.0\u001b[39m)\n",
       ")\n",
       "\u001b[36mv4\u001b[39m: \u001b[32mDouble\u001b[39m = \u001b[32m2.6608333328389557\u001b[39m\n",
       "\u001b[36me5\u001b[39m: \u001b[32mMinus\u001b[39m = \u001b[33mMinus\u001b[39m(\n",
       "  \u001b[33mMult\u001b[39m(\u001b[33mIdent\u001b[39m(\u001b[32m\"x\"\u001b[39m), \u001b[33mSine\u001b[39m(\u001b[33mIdent\u001b[39m(\u001b[32m\"x\"\u001b[39m))),\n",
       "  \u001b[33mPlus\u001b[39m(\u001b[33mCosine\u001b[39m(\u001b[33mIdent\u001b[39m(\u001b[32m\"x\"\u001b[39m)), \u001b[33mConst\u001b[39m(\u001b[32m5.0\u001b[39m))\n",
       ")\n",
       "\u001b[36mv5\u001b[39m: \u001b[32mDouble\u001b[39m = \u001b[32m21.80586857241091\u001b[39m"
      ]
     },
     "execution_count": 11,
     "metadata": {},
     "output_type": "execute_result"
    }
   ],
   "source": [
    "// BEGIN TESTS\n",
    "def checkSolution(e: Expr, v: Double): Boolean = {\n",
    "    val y = evalExpr(e, Map{\"x\" -> v}) \n",
    "    math.abs(y) <= 1e-08\n",
    "}\n",
    "\n",
    "val e1 = Plus(Minus(Mult(Ident(\"x\"), Ident(\"x\")), Mult(Const(3.0), Ident(\"x\"))), Const(2.0))\n",
    "val v1 = solveEquation(e1, 10.0, 1000)\n",
    "\n",
    "assert(checkSolution(e1, v1), s\"Test 1 failed: $e1 == 0, your code returned $v1 with f(x) = ${evalExpr(e1, Map{\"x\" -> v1}) }\")\n",
    "\n",
    "// Sine(x)  - Cos(x) - x == 0\n",
    "val x = Ident(\"x\")\n",
    "val e2 = Minus(Sine(x), Plus(Cosine(x), x))\n",
    "val v2 = solveEquation(e2, 1.4)\n",
    "assert(checkSolution(e2, v2), s\"Test 2 failed: $e2 == 0, your code returned $v2 with f(x) = ${evalExpr(e2, Map{\"x\" -> v2}) }\")\n",
    "\n",
    "// e^x - 5.0 = 0\n",
    "val e3 = Minus(Exp(x), Const(5.0))\n",
    "val v3 = solveEquation(e3, 2.0)\n",
    "assert(checkSolution(e3, v3), s\"Test 3 failed: $e3 == 0, your code returned $v3 with f(x) = ${evalExpr(e3, Map{\"x\" -> v3}) }\")\n",
    "\n",
    "// e^cos(x) + e^sin(x) - 2.0 = 0\n",
    "\n",
    "val e4 = Minus(Plus(Exp(Sine(x)), Exp(Cosine(x))), Const(2.0))\n",
    "val v4 = solveEquation(e4, 1.8)\n",
    "assert(checkSolution(e4, v4), s\"Test 3 failed: $e4 == 0, your code returned $v4 with f(x) = ${evalExpr(e4, Map{\"x\" -> v4}) }\")\n",
    "\n",
    "\n",
    "// x sin(x) -  cos(x) - 5.0\n",
    "val e5 = Minus(Mult(x, Sine(x)), Plus(Cosine(x), Const(5.0)))\n",
    "val v5 = solveEquation(e5, 1.8)\n",
    "assert(checkSolution(e5, v5), s\"Test 3 failed: $e5 == 0, your code returned $v5 with f(x) = ${evalExpr(e5, Map{\"x\" -> v5}) }\")\n",
    "\n",
    "passed(10)\n",
    "// END TESTS"
   ]
  },
  {
   "cell_type": "markdown",
   "metadata": {
    "nbgrader": {
     "grade": false,
     "grade_id": "cell-c90311f0f12f79f2",
     "locked": true,
     "schema_version": 3,
     "solution": false
    }
   },
   "source": [
    "## Problem 2: map, filter, reduce on containers (25 points)\n",
    "\n",
    "Solve the problems using a combination of map, filter and foldLeft/foldRight opertions over lists. The use of mutables, recursion, For/While loops is forbidden for this problem."
   ]
  },
  {
   "cell_type": "markdown",
   "metadata": {
    "nbgrader": {
     "grade": false,
     "grade_id": "cell-57eb1b5c1720b797",
     "locked": true,
     "schema_version": 3,
     "solution": false
    }
   },
   "source": [
    "\n",
    "### 2A: Count how many whitespaces in a string (5 points)\n",
    "\n",
    "Write a function `countWhiteSpaces` that will count how many characters in a string are white spaces ` ` or `\\t`."
   ]
  },
  {
   "cell_type": "code",
   "execution_count": 12,
   "metadata": {
    "nbgrader": {
     "grade": false,
     "grade_id": "cell-d07d79524c90fd4e",
     "locked": false,
     "schema_version": 3,
     "solution": true
    }
   },
   "outputs": [
    {
     "data": {
      "text/plain": [
       "defined \u001b[32mfunction\u001b[39m \u001b[36mcountWhiteSpaces\u001b[39m"
      ]
     },
     "execution_count": 12,
     "metadata": {},
     "output_type": "execute_result"
    }
   ],
   "source": [
    "def countWhiteSpaces(s: String): Int =\n",
    "    // BEGIN SOLUTION\n",
    "    {\n",
    "        val t = s.filter ( c => (c == ' ' || c == '\\t')) \n",
    "        t.length\n",
    "    }\n",
    "    // END SOLUTION"
   ]
  },
  {
   "cell_type": "code",
   "execution_count": 13,
   "metadata": {
    "nbgrader": {
     "grade": true,
     "grade_id": "cell-054acf67575fc99c",
     "locked": true,
     "points": 5,
     "schema_version": 3,
     "solution": false
    }
   },
   "outputs": [
    {
     "name": "stdout",
     "output_type": "stream",
     "text": [
      "Tests Passed (5 points)"
     ]
    },
    {
     "data": {
      "text/plain": [
       "\u001b[36mt1\u001b[39m: \u001b[32mInt\u001b[39m = \u001b[32m0\u001b[39m\n",
       "\u001b[36mt2\u001b[39m: \u001b[32mInt\u001b[39m = \u001b[32m5\u001b[39m\n",
       "\u001b[36mt3\u001b[39m: \u001b[32mInt\u001b[39m = \u001b[32m6\u001b[39m\n",
       "\u001b[36mt4\u001b[39m: \u001b[32mInt\u001b[39m = \u001b[32m6\u001b[39m"
      ]
     },
     "execution_count": 13,
     "metadata": {},
     "output_type": "execute_result"
    }
   ],
   "source": [
    "// BEGIN TESTS\n",
    "val t1  = countWhiteSpaces(\"Hello\")\n",
    "assert(t1 == 0, s\"Test1: String whould have 0 white spaces. Your code returned $t1\")\n",
    "val t2 = countWhiteSpaces(\"Hello World this is Sriram Speaking\")\n",
    "assert(t2 ==5, \"Test 2: String should have 5 white spaces.Your code returned $t2 \")\n",
    "val t3 = countWhiteSpaces(\"No Non Nons Nonse Nonsen Nonsens Nonsense!!\")\n",
    "assert(t3 ==6, \"Test 3\")\n",
    "val t4 = countWhiteSpaces(\"      \")\n",
    "assert(t4==6, s\"Test 4: String  (6spaces) should have  white spaces.Your code returned $t4 \")\n",
    "\n",
    "passed(5)\n",
    "// END TESTS"
   ]
  },
  {
   "cell_type": "markdown",
   "metadata": {
    "nbgrader": {
     "grade": false,
     "grade_id": "cell-cce284d399573f50",
     "locked": true,
     "schema_version": 3,
     "solution": false
    }
   },
   "source": [
    "### 2B: Sum of Even  Elements Minus Sum of Odd Elements (5 points)\n",
    "\n",
    "Given a list of length n, write a function that returns the sum of even elements minus sum of odd elements of a list. It must return $0$ for the empty list.\n",
    "\n",
    "eg., input `List(1, 3, 5, 4, 5, 2, 1, 0)`. Output `  (4 + 2 + 0) - (1 + 3 + 5 + 5 + 1) = -9`"
   ]
  },
  {
   "cell_type": "code",
   "execution_count": 14,
   "metadata": {
    "nbgrader": {
     "grade": false,
     "grade_id": "cell-332c55ac9d70c435",
     "locked": false,
     "schema_version": 3,
     "solution": true
    }
   },
   "outputs": [
    {
     "data": {
      "text/plain": [
       "defined \u001b[32mfunction\u001b[39m \u001b[36msumOfEvenMinusOdd\u001b[39m"
      ]
     },
     "execution_count": 14,
     "metadata": {},
     "output_type": "execute_result"
    }
   ],
   "source": [
    "def sumOfEvenMinusOdd(l: List[Int]) : Int =\n",
    "    // BEGIN SOLUTION\n",
    "    l.foldLeft(0) { case (a,b) => if (b % 2 == 0) { a + b} else { a  - b }}\n",
    "    // END SOLUTION"
   ]
  },
  {
   "cell_type": "code",
   "execution_count": 15,
   "metadata": {
    "nbgrader": {
     "grade": true,
     "grade_id": "cell-b37de6cd26982543",
     "locked": true,
     "points": 5,
     "schema_version": 3,
     "solution": false
    }
   },
   "outputs": [
    {
     "name": "stdout",
     "output_type": "stream",
     "text": [
      "Tests Passed (5 points)"
     ]
    },
    {
     "data": {
      "text/plain": [
       "\u001b[36mi1\u001b[39m: \u001b[32mInt\u001b[39m = \u001b[32m-9\u001b[39m\n",
       "\u001b[36mi2\u001b[39m: \u001b[32mInt\u001b[39m = \u001b[32m18\u001b[39m\n",
       "\u001b[36mi3\u001b[39m: \u001b[32mInt\u001b[39m = \u001b[32m-133\u001b[39m"
      ]
     },
     "execution_count": 15,
     "metadata": {},
     "output_type": "execute_result"
    }
   ],
   "source": [
    "// BEGIN TESTS\n",
    "val i1 = sumOfEvenMinusOdd(List(1,3,5,4,5,2,1,0))\n",
    "assert(i1 == -9, \"Test 1 Failed\")\n",
    "\n",
    "val i2 = sumOfEvenMinusOdd(List(2,4,5,6,7,8,10))\n",
    "assert(i2 == 18, \"Test 2 Failed\")\n",
    "\n",
    "val i3 = sumOfEvenMinusOdd(List(109, 19, 12, 1, -5, -120, -15, 30,-33,-13, 12, 19, 3, 18, 1, -1))\n",
    "assert(i3 == -133, \"Test 3 Failed\")\n",
    "\n",
    "passed(5)\n",
    "// END TESTS"
   ]
  },
  {
   "cell_type": "markdown",
   "metadata": {
    "nbgrader": {
     "grade": false,
     "grade_id": "cell-1de14d7f940a930f",
     "locked": true,
     "schema_version": 3,
     "solution": false
    }
   },
   "source": [
    "### 2C: sum of odd index elements - sum of even index elements in a list (5 points)\n",
    "\n",
    "Given a list $L= [a(1), ..., a(n)]$ of $n$ integers, find the  the sum\n",
    "of elements at even positions (a[0], a[2], ..., ) minus the sum of elements at\n",
    "odd positions (a[1], a[3], ... ) :\n",
    "(a[0] + a[2]+a[4] + .... ) - (a[1] + a[3]  + .... )\n",
    "\n"
   ]
  },
  {
   "cell_type": "code",
   "execution_count": 16,
   "metadata": {
    "nbgrader": {
     "grade": false,
     "grade_id": "cell-0c984f492b25b8b4",
     "locked": false,
     "schema_version": 3,
     "solution": true
    }
   },
   "outputs": [
    {
     "data": {
      "text/plain": [
       "defined \u001b[32mfunction\u001b[39m \u001b[36msumOfEvenIndicesMinusOdd\u001b[39m"
      ]
     },
     "execution_count": 16,
     "metadata": {},
     "output_type": "execute_result"
    }
   ],
   "source": [
    "def sumOfEvenIndicesMinusOdd(l: List[Int]): Int =\n",
    "    // BEGIN SOLUTION\n",
    "    {\n",
    "        val (sum, parity) = l.foldLeft((0, 1)) { \n",
    "            case ((j,k), i) => ( (i*k + j  ), -k ) \n",
    "        }\n",
    "        return sum\n",
    "    }\n",
    "    // END SOLUTION"
   ]
  },
  {
   "cell_type": "code",
   "execution_count": 17,
   "metadata": {
    "nbgrader": {
     "grade": true,
     "grade_id": "cell-8c49d31044f1e0ae",
     "locked": true,
     "points": 5,
     "schema_version": 3,
     "solution": false
    }
   },
   "outputs": [
    {
     "name": "stdout",
     "output_type": "stream",
     "text": [
      "Tests Passed (5 points)"
     ]
    },
    {
     "data": {
      "text/plain": [
       "\u001b[36mt1\u001b[39m: \u001b[32mInt\u001b[39m = \u001b[32m-3\u001b[39m\n",
       "\u001b[36mt2\u001b[39m: \u001b[32mInt\u001b[39m = \u001b[32m-190\u001b[39m\n",
       "\u001b[36mt3\u001b[39m: \u001b[32mInt\u001b[39m = \u001b[32m0\u001b[39m\n",
       "\u001b[36mt4\u001b[39m: \u001b[32mInt\u001b[39m = \u001b[32m0\u001b[39m\n",
       "\u001b[36mt5\u001b[39m: \u001b[32mInt\u001b[39m = \u001b[32m10\u001b[39m"
      ]
     },
     "execution_count": 17,
     "metadata": {},
     "output_type": "execute_result"
    }
   ],
   "source": [
    "// BEGIN TESTS\n",
    "val t1 = sumOfEvenIndicesMinusOdd(List(1, 2, 3, 4, 5, 6))\n",
    "assert(t1 == -3, \"Test 1 failed\")\n",
    "val t2 = sumOfEvenIndicesMinusOdd(List(10, 200))\n",
    "assert(t2 == -190, \"Test 2 failed\")\n",
    "val t3 = sumOfEvenIndicesMinusOdd(List(0, 20, 0, 20, 0, 20, 20, 0, 20, 0, 20, 0))\n",
    "assert(t3 == 0, \"Test 3 failed\")\n",
    "val t4 = sumOfEvenIndicesMinusOdd(List())\n",
    "assert(t4 == 0, \"Test 4 failed\")\n",
    "val t5 = sumOfEvenIndicesMinusOdd(List(10))\n",
    "assert(t5 == 10, \"Test 5 failed\")\n",
    "\n",
    "passed(5)\n",
    "// END TESTS"
   ]
  },
  {
   "cell_type": "markdown",
   "metadata": {
    "nbgrader": {
     "grade": false,
     "grade_id": "cell-0272d508d2481088",
     "locked": true,
     "schema_version": 3,
     "solution": false
    }
   },
   "source": [
    "### 2D: Loop → FoldLeft (10 points)\n",
    "Eliminate the for loop and mutable variables in the code below"
   ]
  },
  {
   "cell_type": "code",
   "execution_count": 18,
   "metadata": {
    "nbgrader": {
     "grade": false,
     "grade_id": "cell-02bc224733c77bc0",
     "locked": true,
     "schema_version": 3,
     "solution": false
    }
   },
   "outputs": [
    {
     "data": {
      "text/plain": [
       "defined \u001b[32mfunction\u001b[39m \u001b[36mimperativeFun\u001b[39m"
      ]
     },
     "execution_count": 18,
     "metadata": {},
     "output_type": "execute_result"
    }
   ],
   "source": [
    "def imperativeFun(lst: List[Int]): Int = {\n",
    "    var minSoFar = Int.MaxValue // 2^32-1\n",
    "    var maxDiff = 0\n",
    "    for (x <- lst) {\n",
    "        if (x <= minSoFar){\n",
    "            minSoFar = x\n",
    "        }\n",
    "        if (x - minSoFar > maxDiff){\n",
    "            maxDiff = x - minSoFar\n",
    "        }\n",
    "    }\n",
    "    \n",
    "    return maxDiff\n",
    "}"
   ]
  },
  {
   "cell_type": "code",
   "execution_count": 19,
   "metadata": {
    "nbgrader": {
     "grade": false,
     "grade_id": "cell-61ba46072b910129",
     "locked": false,
     "schema_version": 3,
     "solution": true
    }
   },
   "outputs": [
    {
     "data": {
      "text/plain": [
       "defined \u001b[32mfunction\u001b[39m \u001b[36mfunUsingFoldLeft\u001b[39m"
      ]
     },
     "execution_count": 19,
     "metadata": {},
     "output_type": "execute_result"
    }
   ],
   "source": [
    "def funUsingFoldLeft(lst: List[Int]): Int =\n",
    "    // BEGIN SOLUTION\n",
    "    {\n",
    "        val (minSoFarFinal, maxDiffFinal) = lst.foldLeft((Int.MaxValue, 0)) {\n",
    "            case ((minSoFar, maxDiff), lstI) => {\n",
    "                val minSoFar1 = if (lstI <= minSoFar) lstI else minSoFar\n",
    "                val maxDiff1 = if (lstI - minSoFar1 > maxDiff) lstI - minSoFar1 else maxDiff\n",
    "                (minSoFar1, maxDiff1)\n",
    "            } \n",
    "        }\n",
    "        maxDiffFinal\n",
    "    }\n",
    "    // END SOLUTION"
   ]
  },
  {
   "cell_type": "code",
   "execution_count": 20,
   "metadata": {
    "nbgrader": {
     "grade": true,
     "grade_id": "cell-b766aa2568f6e251",
     "locked": true,
     "points": 10,
     "schema_version": 3,
     "solution": false
    }
   },
   "outputs": [
    {
     "name": "stdout",
     "output_type": "stream",
     "text": [
      "Tests Passed (10 points)"
     ]
    },
    {
     "data": {
      "text/plain": [
       "\u001b[36ml1\u001b[39m: \u001b[32mList\u001b[39m[\u001b[32mInt\u001b[39m] = \u001b[33mList\u001b[39m(\u001b[32m1\u001b[39m, \u001b[32m2\u001b[39m, \u001b[32m3\u001b[39m, \u001b[32m-1\u001b[39m, \u001b[32m2\u001b[39m, \u001b[32m5\u001b[39m, \u001b[32m18\u001b[39m, \u001b[32m19\u001b[39m, \u001b[32m1\u001b[39m, \u001b[32m0\u001b[39m, \u001b[32m-12\u001b[39m, \u001b[32m2\u001b[39m)\n",
       "\u001b[36ml2\u001b[39m: \u001b[32mList\u001b[39m[\u001b[32mInt\u001b[39m] = \u001b[33mList\u001b[39m(\u001b[32m2\u001b[39m)\n",
       "\u001b[36ml3\u001b[39m: \u001b[32mList\u001b[39m[\u001b[32mNothing\u001b[39m] = \u001b[33mList\u001b[39m()\n",
       "\u001b[36ml4\u001b[39m: \u001b[32mList\u001b[39m[\u001b[32mInt\u001b[39m] = \u001b[33mList\u001b[39m(\u001b[32m3\u001b[39m, \u001b[32m2\u001b[39m, \u001b[32m1\u001b[39m, \u001b[32m0\u001b[39m)\n",
       "\u001b[36ml5\u001b[39m: \u001b[32mList\u001b[39m[\u001b[32mInt\u001b[39m] = \u001b[33mList\u001b[39m(\u001b[32m-1\u001b[39m, \u001b[32m-12\u001b[39m, \u001b[32m-22\u001b[39m, \u001b[32m-54\u001b[39m, \u001b[32m-89\u001b[39m, \u001b[32m90\u001b[39m)"
      ]
     },
     "execution_count": 20,
     "metadata": {},
     "output_type": "execute_result"
    }
   ],
   "source": [
    "// BEGIN TESTS\n",
    "val l1 = List(1, 2, 3, -1, 2, 5, 18, 19, 1, 0, -12, 2)\n",
    "assert(imperativeFun(l1) == funUsingFoldLeft(l1), \"Test 1 failed\")\n",
    "\n",
    "val l2 = List(2)\n",
    "assert(imperativeFun(l2) == funUsingFoldLeft(l2), \"Test 2 failed\")\n",
    "\n",
    "val l3 = List()\n",
    "assert(imperativeFun(l3) == funUsingFoldLeft(l3), \"Test 3 failed\")\n",
    "\n",
    "val l4 = List(3, 2, 1, 0)\n",
    "assert(imperativeFun(l4) == funUsingFoldLeft(l4), \"Test 4 failed\")\n",
    "\n",
    "val l5 = List( -1,  -12, -22, -54, -89, 90)\n",
    "assert(imperativeFun(l5) == funUsingFoldLeft(l5), \"Test 5 failed\")\n",
    "\n",
    "passed(10)\n",
    "// END TESTS"
   ]
  }
 ],
 "metadata": {
  "celltoolbar": "Create Assignment",
  "kernelspec": {
   "display_name": "Scala",
   "language": "scala",
   "name": "scala"
  },
  "language_info": {
   "codemirror_mode": "text/x-scala",
   "file_extension": ".scala",
   "mimetype": "text/x-scala",
   "name": "scala",
   "nbconvert_exporter": "script",
   "version": "2.12.8"
  }
 },
 "nbformat": 4,
 "nbformat_minor": 2
}
